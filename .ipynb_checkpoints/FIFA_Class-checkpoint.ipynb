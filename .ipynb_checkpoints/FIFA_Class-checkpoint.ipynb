{
 "cells": [
  {
   "cell_type": "code",
   "execution_count": 8,
   "metadata": {},
   "outputs": [],
   "source": [
    "import pandas as pd\n",
    "import numpy as np\n",
    "import random as rnd\n",
    "import seaborn as sns\n",
    "import matplotlib.pyplot as plt\n",
    "%matplotlib inline\n",
    "import warnings\n",
    "warnings.filterwarnings('ignore')\n",
    "from sklearn import preprocessing\n",
    "from sklearn.model_selection import train_test_split\n",
    "from sklearn.model_selection import cross_validate\n",
    "from sklearn.metrics import recall_score"
   ]
  },
  {
   "cell_type": "code",
   "execution_count": 2,
   "metadata": {},
   "outputs": [],
   "source": [
    "#data = pd.read_csv('data.csv')"
   ]
  },
  {
   "cell_type": "code",
   "execution_count": 3,
   "metadata": {},
   "outputs": [],
   "source": [
    "#data.shape"
   ]
  },
  {
   "cell_type": "code",
   "execution_count": 4,
   "metadata": {},
   "outputs": [],
   "source": [
    "#data.head()"
   ]
  },
  {
   "cell_type": "code",
   "execution_count": 5,
   "metadata": {},
   "outputs": [],
   "source": [
    "#create indexes: will start at zero until the number of columns\n",
    "\n",
    "#for i, col in enumerate(data.columns):\n",
    "#    print(i, col)"
   ]
  },
  {
   "cell_type": "code",
   "execution_count": 8,
   "metadata": {},
   "outputs": [],
   "source": [
    "data = pd.read_csv('players_22.csv')\n",
    "\n",
    "data = data[data['overall']>69]"
   ]
  },
  {
   "cell_type": "code",
   "execution_count": 10,
   "metadata": {},
   "outputs": [],
   "source": [
    "\n",
    "\n",
    "arquero = ['GK']\n",
    "defensor = ['CB', 'LCB', 'RCB', 'LB' , 'RB']\n",
    "mediocampista = ['CM', 'LDM', 'LAM', 'RDM', 'CDM', 'CAM', 'LM', 'RM']\n",
    "atacante = ['ST', 'CF', 'LW', 'RW']\n",
    "\n",
    "data['posicion'] = ''\n",
    "for i, posicion_del_jugador in enumerate(data['player_positions']):\n",
    "    for posicion in arquero:\n",
    "        if posicion in posicion_del_jugador:\n",
    "            data.loc[i, 'posicion'] = 3.\n",
    "    for posicion in defensor:\n",
    "        if posicion in posicion_del_jugador:\n",
    "            data.loc[i, 'posicion'] = 0.\n",
    "    for posicion in mediocampista:\n",
    "        if posicion in posicion_del_jugador:\n",
    "            data.loc[i, 'posicion'] = 1.\n",
    "    for posicion in atacante:\n",
    "        if posicion in posicion_del_jugador:\n",
    "            data.loc[i, 'posicion'] = 2.   "
   ]
  },
  {
   "cell_type": "code",
   "execution_count": 11,
   "metadata": {},
   "outputs": [
    {
     "name": "stdout",
     "output_type": "stream",
     "text": [
      "club_loaned_from             0.933394\n",
      "goalkeeping_speed            0.903019\n",
      "nation_team_id               0.887466\n",
      "nation_logo_url              0.887466\n",
      "nation_jersey_number         0.887466\n",
      "nation_position              0.887466\n",
      "player_tags                  0.835682\n",
      "player_traits                0.210613\n",
      "passing                      0.096981\n",
      "defending                    0.096981\n",
      "physic                       0.096981\n",
      "dribbling                    0.096981\n",
      "shooting                     0.096981\n",
      "pace                         0.096981\n",
      "release_clause_eur           0.072278\n",
      "club_joined                  0.071729\n",
      "value_eur                    0.005672\n",
      "club_contract_valid_until    0.005124\n",
      "club_position                0.005124\n",
      "club_jersey_number           0.005124\n",
      "club_name                    0.005124\n",
      "league_level                 0.005124\n",
      "league_name                  0.005124\n",
      "club_team_id                 0.005124\n",
      "wage_eur                     0.005124\n",
      "club_logo_url                0.005124\n",
      "club_flag_url                0.005124\n",
      "dtype: float64\n"
     ]
    }
   ],
   "source": [
    "nans = data.isna().sum().sort_values(ascending=False)\n",
    "print(nans[nans!=0]/data.shape[0])"
   ]
  },
  {
   "cell_type": "code",
   "execution_count": 12,
   "metadata": {},
   "outputs": [
    {
     "name": "stdout",
     "output_type": "stream",
     "text": [
      "club_loaned_from\n",
      "goalkeeping_speed\n",
      "nation_team_id\n",
      "nation_logo_url\n",
      "nation_jersey_number\n",
      "nation_position\n",
      "player_tags\n"
     ]
    }
   ],
   "source": [
    "drop_vars = nans[list(nans/data.shape[0] > 0.5)].keys()\n",
    "for var in drop_vars:\n",
    "    print(var)\n",
    "    data.drop(var,inplace=True,axis=1)"
   ]
  },
  {
   "cell_type": "code",
   "execution_count": 13,
   "metadata": {},
   "outputs": [],
   "source": [
    "data.fillna(data.mean(), inplace=True)"
   ]
  },
  {
   "cell_type": "code",
   "execution_count": 15,
   "metadata": {},
   "outputs": [
    {
     "ename": "ValueError",
     "evalue": "Unable to parse string \"Finesse Shot, Long Shot Taker (AI), Playmaker (AI), Outside Foot Shot, One Club Player, Chip Shot (AI), Technical Dribbler (AI)\" at position 0",
     "output_type": "error",
     "traceback": [
      "\u001b[1;31m---------------------------------------------------------------------------\u001b[0m",
      "\u001b[1;31mValueError\u001b[0m                                Traceback (most recent call last)",
      "\u001b[1;32mpandas\\_libs\\lib.pyx\u001b[0m in \u001b[0;36mpandas._libs.lib.maybe_convert_numeric\u001b[1;34m()\u001b[0m\n",
      "\u001b[1;31mValueError\u001b[0m: Unable to parse string \"Finesse Shot, Long Shot Taker (AI), Playmaker (AI), Outside Foot Shot, One Club Player, Chip Shot (AI), Technical Dribbler (AI)\"",
      "\nDuring handling of the above exception, another exception occurred:\n",
      "\u001b[1;31mValueError\u001b[0m                                Traceback (most recent call last)",
      "\u001b[1;32m<ipython-input-15-6acd2d23cc9a>\u001b[0m in \u001b[0;36m<module>\u001b[1;34m\u001b[0m\n\u001b[0;32m     59\u001b[0m         \u001b[0mdata\u001b[0m\u001b[1;33m[\u001b[0m\u001b[0mval\u001b[0m\u001b[1;33m]\u001b[0m\u001b[1;33m=\u001b[0m\u001b[0mdata\u001b[0m\u001b[1;33m[\u001b[0m\u001b[0mval\u001b[0m\u001b[1;33m]\u001b[0m\u001b[1;33m.\u001b[0m\u001b[0mastype\u001b[0m\u001b[1;33m(\u001b[0m\u001b[1;34m'object'\u001b[0m\u001b[1;33m)\u001b[0m\u001b[1;33m\u001b[0m\u001b[1;33m\u001b[0m\u001b[0m\n\u001b[0;32m     60\u001b[0m     \u001b[1;32melse\u001b[0m\u001b[1;33m:\u001b[0m\u001b[1;33m\u001b[0m\u001b[1;33m\u001b[0m\u001b[0m\n\u001b[1;32m---> 61\u001b[1;33m         \u001b[0mpd\u001b[0m\u001b[1;33m.\u001b[0m\u001b[0mto_numeric\u001b[0m\u001b[1;33m(\u001b[0m\u001b[0mdata\u001b[0m\u001b[1;33m[\u001b[0m\u001b[0mval\u001b[0m\u001b[1;33m]\u001b[0m\u001b[1;33m,\u001b[0m \u001b[0mdowncast\u001b[0m\u001b[1;33m=\u001b[0m\u001b[1;34m\"float\"\u001b[0m\u001b[1;33m)\u001b[0m\u001b[1;33m\u001b[0m\u001b[1;33m\u001b[0m\u001b[0m\n\u001b[0m",
      "\u001b[1;32m~\\anaconda3\\lib\\site-packages\\pandas\\core\\tools\\numeric.py\u001b[0m in \u001b[0;36mto_numeric\u001b[1;34m(arg, errors, downcast)\u001b[0m\n\u001b[0;32m    148\u001b[0m         \u001b[1;32mtry\u001b[0m\u001b[1;33m:\u001b[0m\u001b[1;33m\u001b[0m\u001b[1;33m\u001b[0m\u001b[0m\n\u001b[0;32m    149\u001b[0m             values = lib.maybe_convert_numeric(\n\u001b[1;32m--> 150\u001b[1;33m                 \u001b[0mvalues\u001b[0m\u001b[1;33m,\u001b[0m \u001b[0mset\u001b[0m\u001b[1;33m(\u001b[0m\u001b[1;33m)\u001b[0m\u001b[1;33m,\u001b[0m \u001b[0mcoerce_numeric\u001b[0m\u001b[1;33m=\u001b[0m\u001b[0mcoerce_numeric\u001b[0m\u001b[1;33m\u001b[0m\u001b[1;33m\u001b[0m\u001b[0m\n\u001b[0m\u001b[0;32m    151\u001b[0m             )\n\u001b[0;32m    152\u001b[0m         \u001b[1;32mexcept\u001b[0m \u001b[1;33m(\u001b[0m\u001b[0mValueError\u001b[0m\u001b[1;33m,\u001b[0m \u001b[0mTypeError\u001b[0m\u001b[1;33m)\u001b[0m\u001b[1;33m:\u001b[0m\u001b[1;33m\u001b[0m\u001b[1;33m\u001b[0m\u001b[0m\n",
      "\u001b[1;32mpandas\\_libs\\lib.pyx\u001b[0m in \u001b[0;36mpandas._libs.lib.maybe_convert_numeric\u001b[1;34m()\u001b[0m\n",
      "\u001b[1;31mValueError\u001b[0m: Unable to parse string \"Finesse Shot, Long Shot Taker (AI), Playmaker (AI), Outside Foot Shot, One Club Player, Chip Shot (AI), Technical Dribbler (AI)\" at position 0"
     ]
    }
   ],
   "source": [
    "categorical_variables = ['sofifa_id',\n",
    " 'player_url',\n",
    " 'short_name',\n",
    " 'long_name',\n",
    " 'player_positions',\n",
    " 'dob',\n",
    " 'club_team_id',\n",
    " 'club_name',\n",
    " 'league_name',\n",
    " 'league_level',\n",
    " 'club_position',\n",
    " 'club_jersey_number',\n",
    " 'club_joined',\n",
    " 'club_contract_valid_until',\n",
    " 'nationality_id',\n",
    " 'nationality_name',\n",
    " 'preferred_foot',\n",
    " 'weak_foot',\n",
    " 'skill_moves',\n",
    " 'international_reputation',\n",
    " 'work_rate',\n",
    " 'body_type',\n",
    " 'real_face',\n",
    " 'ls',\n",
    " 'st',\n",
    " 'rs',\n",
    " 'lw',\n",
    " 'lf',\n",
    " 'cf',\n",
    " 'rf',\n",
    " 'rw',\n",
    " 'lam',\n",
    " 'cam',\n",
    " 'ram',\n",
    " 'lm',\n",
    " 'lcm',\n",
    " 'cm',\n",
    " 'rcm',\n",
    " 'rm',\n",
    " 'lwb',\n",
    " 'ldm',\n",
    " 'cdm',\n",
    " 'rdm',\n",
    " 'rwb',\n",
    " 'lb',\n",
    " 'lcb',\n",
    " 'cb',\n",
    " 'rcb',\n",
    " 'rb',\n",
    " 'gk',\n",
    " 'player_face_url',\n",
    " 'club_logo_url',\n",
    " 'club_flag_url',\n",
    " 'nation_flag_url']\n",
    "\n",
    "\n",
    "for val in data:\n",
    "    if val in categorical_variables:\n",
    "        data[val]=data[val].astype('object')\n",
    "    else:\n",
    "        pd.to_numeric(data[val], downcast=\"float\")"
   ]
  },
  {
   "cell_type": "code",
   "execution_count": 16,
   "metadata": {},
   "outputs": [],
   "source": [
    "X = data.loc[:,data.dtypes != 'object']"
   ]
  },
  {
   "cell_type": "code",
   "execution_count": 17,
   "metadata": {},
   "outputs": [],
   "source": [
    "y = data['posicion']"
   ]
  },
  {
   "cell_type": "code",
   "execution_count": 18,
   "metadata": {},
   "outputs": [
    {
     "data": {
      "text/plain": [
       "Index(['overall', 'potential', 'value_eur', 'wage_eur', 'age', 'height_cm',\n",
       "       'weight_kg', 'release_clause_eur', 'pace', 'shooting', 'passing',\n",
       "       'dribbling', 'defending', 'physic', 'attacking_crossing',\n",
       "       'attacking_finishing', 'attacking_heading_accuracy',\n",
       "       'attacking_short_passing', 'attacking_volleys', 'skill_dribbling',\n",
       "       'skill_curve', 'skill_fk_accuracy', 'skill_long_passing',\n",
       "       'skill_ball_control', 'movement_acceleration', 'movement_sprint_speed',\n",
       "       'movement_agility', 'movement_reactions', 'movement_balance',\n",
       "       'power_shot_power', 'power_jumping', 'power_stamina', 'power_strength',\n",
       "       'power_long_shots', 'mentality_aggression', 'mentality_interceptions',\n",
       "       'mentality_positioning', 'mentality_vision', 'mentality_penalties',\n",
       "       'mentality_composure', 'defending_marking_awareness',\n",
       "       'defending_standing_tackle', 'defending_sliding_tackle',\n",
       "       'goalkeeping_diving', 'goalkeeping_handling', 'goalkeeping_kicking',\n",
       "       'goalkeeping_positioning', 'goalkeeping_reflexes', 'posicion'],\n",
       "      dtype='object')"
      ]
     },
     "execution_count": 18,
     "metadata": {},
     "output_type": "execute_result"
    }
   ],
   "source": [
    "X.columns"
   ]
  },
  {
   "cell_type": "code",
   "execution_count": 20,
   "metadata": {},
   "outputs": [],
   "source": [
    "gkhabilities = ['goalkeeping_diving', 'goalkeeping_handling', 'goalkeeping_kicking', 'goalkeeping_positioning', 'goalkeeping_reflexes']\n",
    "x3 = data.loc[:,data.dtypes != 'object']\n",
    "\n",
    "#x3 = x3.drop(gkhabilities, 1)\n",
    "\n",
    "#x3 = x3.loc[x3['posicion'] != 'arquero']"
   ]
  },
  {
   "cell_type": "code",
   "execution_count": 26,
   "metadata": {},
   "outputs": [],
   "source": [
    "dat2 = data.loc[data['posicion'] != 3.]\n",
    "dat2 = dat2.drop(gkhabilities, 1)\n",
    "\n",
    "dat2 = dat2.dropna(axis=0)\n",
    "\n",
    "dat2 = dat2[dat2['overall'] >69]\n",
    "\n",
    "X2 = dat2.loc[:,dat2.dtypes != 'object']\n",
    "y2 = dat2['posicion']"
   ]
  },
  {
   "cell_type": "code",
   "execution_count": 27,
   "metadata": {},
   "outputs": [
    {
     "data": {
      "text/plain": [
       "(4031, 99)"
      ]
     },
     "execution_count": 27,
     "metadata": {},
     "output_type": "execute_result"
    }
   ],
   "source": [
    "dat2.shape"
   ]
  },
  {
   "cell_type": "code",
   "execution_count": 28,
   "metadata": {},
   "outputs": [
    {
     "data": {
      "text/plain": [
       "(4031,)"
      ]
     },
     "execution_count": 28,
     "metadata": {},
     "output_type": "execute_result"
    }
   ],
   "source": [
    "y2.shape"
   ]
  },
  {
   "cell_type": "code",
   "execution_count": 9,
   "metadata": {},
   "outputs": [],
   "source": [
    "#Clasificadores usuales\n",
    "from sklearn import svm, tree, linear_model, neighbors, naive_bayes, ensemble, discriminant_analysis, gaussian_process\n",
    "from xgboost import XGBClassifier\n",
    "#Evaluaciones usuales de los modelos\n",
    "from sklearn import feature_selection\n",
    "from sklearn import model_selection\n",
    "from sklearn import metrics\n",
    "from sklearn.model_selection import train_test_split\n",
    "from sklearn.metrics import confusion_matrix\n",
    "import warnings\n",
    "warnings.filterwarnings('ignore')"
   ]
  },
  {
   "cell_type": "code",
   "execution_count": 10,
   "metadata": {},
   "outputs": [
    {
     "ename": "NameError",
     "evalue": "name 'cols' is not defined",
     "output_type": "error",
     "traceback": [
      "\u001b[1;31m---------------------------------------------------------------------------\u001b[0m",
      "\u001b[1;31mNameError\u001b[0m                                 Traceback (most recent call last)",
      "\u001b[1;32m<ipython-input-10-4abde2eb44bf>\u001b[0m in \u001b[0;36m<module>\u001b[1;34m\u001b[0m\n\u001b[0;32m      2\u001b[0m \u001b[1;33m\u001b[0m\u001b[0m\n\u001b[0;32m      3\u001b[0m \u001b[0my\u001b[0m \u001b[1;33m=\u001b[0m \u001b[1;33m[\u001b[0m\u001b[1;34m'posicion'\u001b[0m\u001b[1;33m]\u001b[0m\u001b[1;33m\u001b[0m\u001b[1;33m\u001b[0m\u001b[0m\n\u001b[1;32m----> 4\u001b[1;33m \u001b[0mx\u001b[0m \u001b[1;33m=\u001b[0m \u001b[0mcols\u001b[0m\u001b[1;33m\u001b[0m\u001b[1;33m\u001b[0m\u001b[0m\n\u001b[0m\u001b[0;32m      5\u001b[0m \u001b[0mx_train\u001b[0m\u001b[1;33m,\u001b[0m \u001b[0mx_test\u001b[0m\u001b[1;33m,\u001b[0m \u001b[0my_train\u001b[0m\u001b[1;33m,\u001b[0m \u001b[0my_test\u001b[0m \u001b[1;33m=\u001b[0m \u001b[0mtrain_test_split\u001b[0m\u001b[1;33m(\u001b[0m\u001b[0mdat2\u001b[0m\u001b[1;33m[\u001b[0m\u001b[0mx\u001b[0m\u001b[1;33m]\u001b[0m\u001b[1;33m,\u001b[0m\u001b[0mdat2\u001b[0m\u001b[1;33m[\u001b[0m\u001b[0my\u001b[0m\u001b[1;33m]\u001b[0m\u001b[1;33m,\u001b[0m \u001b[0mtest_size\u001b[0m\u001b[1;33m=\u001b[0m\u001b[1;36m0.3\u001b[0m\u001b[1;33m)\u001b[0m\u001b[1;33m\u001b[0m\u001b[1;33m\u001b[0m\u001b[0m\n",
      "\u001b[1;31mNameError\u001b[0m: name 'cols' is not defined"
     ]
    }
   ],
   "source": [
    "#x_train, x_test, y_train, y_test = train_test_split(X2, y2, test_size=0.3)\n",
    "\n",
    "y = ['posicion']\n",
    "x = cols\n",
    "x_train, x_test, y_train, y_test = train_test_split(dat2[x],dat2[y], test_size=0.3)"
   ]
  },
  {
   "cell_type": "code",
   "execution_count": 25,
   "metadata": {},
   "outputs": [
    {
     "ename": "KeyError",
     "evalue": "\"None of [Index(['posicion'], dtype='object')] are in the [columns]\"",
     "output_type": "error",
     "traceback": [
      "\u001b[1;31m---------------------------------------------------------------------------\u001b[0m",
      "\u001b[1;31mKeyError\u001b[0m                                  Traceback (most recent call last)",
      "\u001b[1;32m<ipython-input-25-261e24754787>\u001b[0m in \u001b[0;36m<module>\u001b[1;34m\u001b[0m\n\u001b[0;32m     39\u001b[0m \u001b[0my\u001b[0m \u001b[1;33m=\u001b[0m \u001b[1;33m[\u001b[0m\u001b[1;34m'posicion'\u001b[0m\u001b[1;33m]\u001b[0m\u001b[1;33m\u001b[0m\u001b[1;33m\u001b[0m\u001b[0m\n\u001b[0;32m     40\u001b[0m \u001b[0mx\u001b[0m \u001b[1;33m=\u001b[0m \u001b[0mcols\u001b[0m\u001b[1;33m\u001b[0m\u001b[1;33m\u001b[0m\u001b[0m\n\u001b[1;32m---> 41\u001b[1;33m \u001b[0mx_train\u001b[0m\u001b[1;33m,\u001b[0m \u001b[0mx_test\u001b[0m\u001b[1;33m,\u001b[0m \u001b[0my_train\u001b[0m\u001b[1;33m,\u001b[0m \u001b[0my_test\u001b[0m \u001b[1;33m=\u001b[0m \u001b[0mtrain_test_split\u001b[0m\u001b[1;33m(\u001b[0m\u001b[0mdata2\u001b[0m\u001b[1;33m[\u001b[0m\u001b[0mx\u001b[0m\u001b[1;33m]\u001b[0m\u001b[1;33m,\u001b[0m\u001b[0mdata2\u001b[0m\u001b[1;33m[\u001b[0m\u001b[0my\u001b[0m\u001b[1;33m]\u001b[0m\u001b[1;33m,\u001b[0m \u001b[0mtest_size\u001b[0m\u001b[1;33m=\u001b[0m\u001b[1;36m0.3\u001b[0m\u001b[1;33m)\u001b[0m\u001b[1;33m\u001b[0m\u001b[1;33m\u001b[0m\u001b[0m\n\u001b[0m\u001b[0;32m     42\u001b[0m \u001b[1;33m\u001b[0m\u001b[0m\n",
      "\u001b[1;32m~\\anaconda3\\lib\\site-packages\\pandas\\core\\frame.py\u001b[0m in \u001b[0;36m__getitem__\u001b[1;34m(self, key)\u001b[0m\n\u001b[0;32m   2804\u001b[0m             \u001b[1;32mif\u001b[0m \u001b[0mis_iterator\u001b[0m\u001b[1;33m(\u001b[0m\u001b[0mkey\u001b[0m\u001b[1;33m)\u001b[0m\u001b[1;33m:\u001b[0m\u001b[1;33m\u001b[0m\u001b[1;33m\u001b[0m\u001b[0m\n\u001b[0;32m   2805\u001b[0m                 \u001b[0mkey\u001b[0m \u001b[1;33m=\u001b[0m \u001b[0mlist\u001b[0m\u001b[1;33m(\u001b[0m\u001b[0mkey\u001b[0m\u001b[1;33m)\u001b[0m\u001b[1;33m\u001b[0m\u001b[1;33m\u001b[0m\u001b[0m\n\u001b[1;32m-> 2806\u001b[1;33m             \u001b[0mindexer\u001b[0m \u001b[1;33m=\u001b[0m \u001b[0mself\u001b[0m\u001b[1;33m.\u001b[0m\u001b[0mloc\u001b[0m\u001b[1;33m.\u001b[0m\u001b[0m_get_listlike_indexer\u001b[0m\u001b[1;33m(\u001b[0m\u001b[0mkey\u001b[0m\u001b[1;33m,\u001b[0m \u001b[0maxis\u001b[0m\u001b[1;33m=\u001b[0m\u001b[1;36m1\u001b[0m\u001b[1;33m,\u001b[0m \u001b[0mraise_missing\u001b[0m\u001b[1;33m=\u001b[0m\u001b[1;32mTrue\u001b[0m\u001b[1;33m)\u001b[0m\u001b[1;33m[\u001b[0m\u001b[1;36m1\u001b[0m\u001b[1;33m]\u001b[0m\u001b[1;33m\u001b[0m\u001b[1;33m\u001b[0m\u001b[0m\n\u001b[0m\u001b[0;32m   2807\u001b[0m \u001b[1;33m\u001b[0m\u001b[0m\n\u001b[0;32m   2808\u001b[0m         \u001b[1;31m# take() does not accept boolean indexers\u001b[0m\u001b[1;33m\u001b[0m\u001b[1;33m\u001b[0m\u001b[1;33m\u001b[0m\u001b[0m\n",
      "\u001b[1;32m~\\anaconda3\\lib\\site-packages\\pandas\\core\\indexing.py\u001b[0m in \u001b[0;36m_get_listlike_indexer\u001b[1;34m(self, key, axis, raise_missing)\u001b[0m\n\u001b[0;32m   1550\u001b[0m \u001b[1;33m\u001b[0m\u001b[0m\n\u001b[0;32m   1551\u001b[0m         self._validate_read_indexer(\n\u001b[1;32m-> 1552\u001b[1;33m             \u001b[0mkeyarr\u001b[0m\u001b[1;33m,\u001b[0m \u001b[0mindexer\u001b[0m\u001b[1;33m,\u001b[0m \u001b[0mo\u001b[0m\u001b[1;33m.\u001b[0m\u001b[0m_get_axis_number\u001b[0m\u001b[1;33m(\u001b[0m\u001b[0maxis\u001b[0m\u001b[1;33m)\u001b[0m\u001b[1;33m,\u001b[0m \u001b[0mraise_missing\u001b[0m\u001b[1;33m=\u001b[0m\u001b[0mraise_missing\u001b[0m\u001b[1;33m\u001b[0m\u001b[1;33m\u001b[0m\u001b[0m\n\u001b[0m\u001b[0;32m   1553\u001b[0m         )\n\u001b[0;32m   1554\u001b[0m         \u001b[1;32mreturn\u001b[0m \u001b[0mkeyarr\u001b[0m\u001b[1;33m,\u001b[0m \u001b[0mindexer\u001b[0m\u001b[1;33m\u001b[0m\u001b[1;33m\u001b[0m\u001b[0m\n",
      "\u001b[1;32m~\\anaconda3\\lib\\site-packages\\pandas\\core\\indexing.py\u001b[0m in \u001b[0;36m_validate_read_indexer\u001b[1;34m(self, key, indexer, axis, raise_missing)\u001b[0m\n\u001b[0;32m   1637\u001b[0m             \u001b[1;32mif\u001b[0m \u001b[0mmissing\u001b[0m \u001b[1;33m==\u001b[0m \u001b[0mlen\u001b[0m\u001b[1;33m(\u001b[0m\u001b[0mindexer\u001b[0m\u001b[1;33m)\u001b[0m\u001b[1;33m:\u001b[0m\u001b[1;33m\u001b[0m\u001b[1;33m\u001b[0m\u001b[0m\n\u001b[0;32m   1638\u001b[0m                 \u001b[0maxis_name\u001b[0m \u001b[1;33m=\u001b[0m \u001b[0mself\u001b[0m\u001b[1;33m.\u001b[0m\u001b[0mobj\u001b[0m\u001b[1;33m.\u001b[0m\u001b[0m_get_axis_name\u001b[0m\u001b[1;33m(\u001b[0m\u001b[0maxis\u001b[0m\u001b[1;33m)\u001b[0m\u001b[1;33m\u001b[0m\u001b[1;33m\u001b[0m\u001b[0m\n\u001b[1;32m-> 1639\u001b[1;33m                 \u001b[1;32mraise\u001b[0m \u001b[0mKeyError\u001b[0m\u001b[1;33m(\u001b[0m\u001b[1;34mf\"None of [{key}] are in the [{axis_name}]\"\u001b[0m\u001b[1;33m)\u001b[0m\u001b[1;33m\u001b[0m\u001b[1;33m\u001b[0m\u001b[0m\n\u001b[0m\u001b[0;32m   1640\u001b[0m \u001b[1;33m\u001b[0m\u001b[0m\n\u001b[0;32m   1641\u001b[0m             \u001b[1;31m# We (temporarily) allow for some missing keys with .loc, except in\u001b[0m\u001b[1;33m\u001b[0m\u001b[1;33m\u001b[0m\u001b[1;33m\u001b[0m\u001b[0m\n",
      "\u001b[1;31mKeyError\u001b[0m: \"None of [Index(['posicion'], dtype='object')] are in the [columns]\""
     ]
    }
   ],
   "source": [
    "data2 = pd.read_csv('players_22.csv')\n",
    "\n",
    "arquero = ['GK']\n",
    "defensor = ['CB', 'LCB', 'RCB', 'LB' , 'RB']\n",
    "mediocampista = ['CM', 'LDM', 'LAM', 'RDM', 'CDM', 'CAM', 'LM', 'RM']\n",
    "atacante = ['ST', 'CF', 'LW', 'RW']\n",
    "\n",
    "data['posicion'] = ''\n",
    "for i, posicion_del_jugador in enumerate(data['player_positions']):\n",
    "    for posicion in arquero:\n",
    "        if posicion in posicion_del_jugador:\n",
    "            data.loc[i, 'posicion'] = 'arquero'\n",
    "    for posicion in defensor:\n",
    "        if posicion in posicion_del_jugador:\n",
    "            data.loc[i, 'posicion'] = 'defensor'\n",
    "    for posicion in mediocampista:\n",
    "        if posicion in posicion_del_jugador:\n",
    "            data.loc[i, 'posicion'] = 'mediocampista'\n",
    "    for posicion in atacante:\n",
    "        if posicion in posicion_del_jugador:\n",
    "            data.loc[i, 'posicion'] = 'atacante'\n",
    "\n",
    "\n",
    "cols = ['overall', 'potential', 'value_eur', 'wage_eur', 'age', 'height_cm',\n",
    "       'weight_kg', 'release_clause_eur', 'pace', 'shooting', 'passing',\n",
    "       'dribbling', 'defending', 'physic', 'attacking_crossing',\n",
    "       'attacking_finishing', 'attacking_heading_accuracy',\n",
    "       'attacking_short_passing', 'attacking_volleys', 'skill_dribbling',\n",
    "       'skill_curve', 'skill_fk_accuracy', 'skill_long_passing',\n",
    "       'skill_ball_control', 'movement_acceleration', 'movement_sprint_speed',\n",
    "       'movement_agility', 'movement_reactions', 'movement_balance',\n",
    "       'power_shot_power', 'power_jumping', 'power_stamina', 'power_strength',\n",
    "       'power_long_shots', 'mentality_aggression', 'mentality_interceptions',\n",
    "       'mentality_positioning', 'mentality_vision', 'mentality_penalties',\n",
    "       'mentality_composure', 'defending_marking_awareness',\n",
    "       'defending_standing_tackle', 'defending_sliding_tackle']\n",
    "\n",
    "\n",
    "y = ['posicion']\n",
    "x = cols\n",
    "x_train, x_test, y_train, y_test = train_test_split(data2[x],data2[y], test_size=0.3)\n",
    "\n"
   ]
  },
  {
   "cell_type": "markdown",
   "metadata": {},
   "source": [
    "MLA = [\n",
    "    ###Ensemble Methods\n",
    "    #ensemble.AdaBoostClassifier(),\n",
    "    #ensemble.BaggingClassifier(),\n",
    "    #ensemble.ExtraTreesClassifier(),\n",
    "    #ensemble.GradientBoostingClassifier(),\n",
    "    #ensemble.RandomForestClassifier(),\n",
    "\n",
    "    ###GLM\n",
    "    #linear_model.LogisticRegressionCV(),\n",
    "    #linear_model.SGDClassifier(),\n",
    "    \n",
    "    ###Nearest Neighbor\n",
    "    neighbors.KNeighborsClassifier(),\n",
    "    \n",
    "    ###SVM\n",
    "    svm.SVC(probability=True),\n",
    "    svm.NuSVC(probability=True, nu=0.1),\n",
    "    svm.LinearSVC(),\n",
    "    \n",
    "    ###Trees    \n",
    "    tree.DecisionTreeClassifier(),\n",
    "    tree.ExtraTreeClassifier(),\n",
    "    \n",
    "    ###Discriminant Analysis\n",
    "    discriminant_analysis.LinearDiscriminantAnalysis(),\n",
    "    discriminant_analysis.QuadraticDiscriminantAnalysis(),\n",
    "\n",
    "    ###xgboost: \n",
    "    XGBClassifier()    \n",
    "    ]\n",
    "    \n",
    "    #split dataset in cross-validation with this splitter class\n",
    "cv_split = model_selection.ShuffleSplit(n_splits = 10, test_size = .3, train_size = .6, random_state = 0 ) # run model 10x with 60/30 split intentionally leaving out 10%\n",
    "\n",
    "#create table to compare MLA metrics\n",
    "MLA_columns = ['MLA Name', 'Exactitud', 'Tasa de mala clasificacion' , 'Tiempo']\n",
    "MLA_compare = pd.DataFrame(columns = MLA_columns)\n",
    "\n",
    "#create table to compare MLA predictions\n",
    "MLA_predict = y_train[y]\n",
    "MLA_test = y_test[y]\n",
    "#index through MLA and save performance to table\n",
    "row_index = 1\n",
    "for alg in MLA:\n",
    "\n",
    "#set name and parameters\n",
    "    MLA_name = alg.__class__.__name__\n",
    "    \n",
    "    MLA_compare.loc[row_index, 'MLA Name'] = MLA_name\n",
    "    \n",
    "\n",
    "    cv_results = model_selection.cross_validate(alg,x_train[x],  y_train[y], return_train_score=True, cv  = cv_split)\n",
    "    \n",
    "\n",
    "    MLA_compare.loc[row_index, 'Tiempo'] = cv_results['fit_time'].mean()\n",
    "    MLA_compare.loc[row_index, 'Exactitud'] = round(cv_results['test_score'].mean(),2)   \n",
    "    MLA_compare.loc[row_index, 'Tasa de mala clasificacion'] =round(1- cv_results['test_score'].mean(),2) \n",
    "\n",
    "    alg.fit(x_train[x],  y_train[y])\n",
    "    MLA_predict[MLA_name] = alg.predict(x_train[x])\n",
    "    MLA_test[MLA_name] = alg.predict(x_test[x])\n",
    "    row_index+=1\n",
    "    \n",
    "    \n",
    "MLA_compare.sort_values(by = ['Exactitud'], ascending = False, inplace = True)\n"
   ]
  },
  {
   "cell_type": "code",
   "execution_count": 44,
   "metadata": {},
   "outputs": [
    {
     "data": {
      "text/html": [
       "<div>\n",
       "<style scoped>\n",
       "    .dataframe tbody tr th:only-of-type {\n",
       "        vertical-align: middle;\n",
       "    }\n",
       "\n",
       "    .dataframe tbody tr th {\n",
       "        vertical-align: top;\n",
       "    }\n",
       "\n",
       "    .dataframe thead th {\n",
       "        text-align: right;\n",
       "    }\n",
       "</style>\n",
       "<table border=\"1\" class=\"dataframe\">\n",
       "  <thead>\n",
       "    <tr style=\"text-align: right;\">\n",
       "      <th></th>\n",
       "      <th>MLA Name</th>\n",
       "      <th>Exactitud</th>\n",
       "      <th>Tasa de mala clasificacion</th>\n",
       "      <th>Tiempo</th>\n",
       "    </tr>\n",
       "  </thead>\n",
       "  <tbody>\n",
       "    <tr>\n",
       "      <th>1</th>\n",
       "      <td>LogisticRegressionCV</td>\n",
       "      <td>0.35</td>\n",
       "      <td>0.65</td>\n",
       "      <td>0.908365</td>\n",
       "    </tr>\n",
       "    <tr>\n",
       "      <th>2</th>\n",
       "      <td>SGDClassifier</td>\n",
       "      <td>0.32</td>\n",
       "      <td>0.68</td>\n",
       "      <td>0.048171</td>\n",
       "    </tr>\n",
       "  </tbody>\n",
       "</table>\n",
       "</div>"
      ],
      "text/plain": [
       "               MLA Name Exactitud Tasa de mala clasificacion    Tiempo\n",
       "1  LogisticRegressionCV      0.35                       0.65  0.908365\n",
       "2         SGDClassifier      0.32                       0.68  0.048171"
      ]
     },
     "execution_count": 44,
     "metadata": {},
     "output_type": "execute_result"
    }
   ],
   "source": [
    "MLA_compare"
   ]
  },
  {
   "cell_type": "code",
   "execution_count": null,
   "metadata": {},
   "outputs": [],
   "source": []
  },
  {
   "cell_type": "markdown",
   "metadata": {},
   "source": [
    "# <ins>ESPACIO PUBLICITARIO<ins>"
   ]
  },
  {
   "cell_type": "code",
   "execution_count": 50,
   "metadata": {},
   "outputs": [],
   "source": [
    "import pandas as pd\n",
    "import numpy as np\n",
    "import random as rnd\n",
    "import seaborn as sns\n",
    "import matplotlib.pyplot as plt\n",
    "%matplotlib inline\n",
    "import warnings\n",
    "warnings.filterwarnings('ignore')\n",
    "from sklearn import preprocessing\n",
    "from sklearn.model_selection import train_test_split\n",
    "from sklearn.model_selection import cross_validate\n",
    "from sklearn.metrics import recall_score\n",
    "from sklearn.utils import shuffle"
   ]
  },
  {
   "cell_type": "code",
   "execution_count": 68,
   "metadata": {},
   "outputs": [
    {
     "data": {
      "text/html": [
       "<div>\n",
       "<style scoped>\n",
       "    .dataframe tbody tr th:only-of-type {\n",
       "        vertical-align: middle;\n",
       "    }\n",
       "\n",
       "    .dataframe tbody tr th {\n",
       "        vertical-align: top;\n",
       "    }\n",
       "\n",
       "    .dataframe thead th {\n",
       "        text-align: right;\n",
       "    }\n",
       "</style>\n",
       "<table border=\"1\" class=\"dataframe\">\n",
       "  <thead>\n",
       "    <tr style=\"text-align: right;\">\n",
       "      <th></th>\n",
       "      <th>sofifa_id</th>\n",
       "      <th>player_url</th>\n",
       "      <th>short_name</th>\n",
       "      <th>long_name</th>\n",
       "      <th>player_positions</th>\n",
       "      <th>overall</th>\n",
       "      <th>potential</th>\n",
       "      <th>value_eur</th>\n",
       "      <th>wage_eur</th>\n",
       "      <th>age</th>\n",
       "      <th>...</th>\n",
       "      <th>lcb</th>\n",
       "      <th>cb</th>\n",
       "      <th>rcb</th>\n",
       "      <th>rb</th>\n",
       "      <th>gk</th>\n",
       "      <th>player_face_url</th>\n",
       "      <th>club_logo_url</th>\n",
       "      <th>club_flag_url</th>\n",
       "      <th>nation_logo_url</th>\n",
       "      <th>nation_flag_url</th>\n",
       "    </tr>\n",
       "  </thead>\n",
       "  <tbody>\n",
       "    <tr>\n",
       "      <th>0</th>\n",
       "      <td>158023</td>\n",
       "      <td>https://sofifa.com/player/158023/lionel-messi/...</td>\n",
       "      <td>L. Messi</td>\n",
       "      <td>Lionel Andrés Messi Cuccittini</td>\n",
       "      <td>RW, ST, CF</td>\n",
       "      <td>93</td>\n",
       "      <td>93</td>\n",
       "      <td>78000000.0</td>\n",
       "      <td>320000.0</td>\n",
       "      <td>34</td>\n",
       "      <td>...</td>\n",
       "      <td>50+3</td>\n",
       "      <td>50+3</td>\n",
       "      <td>50+3</td>\n",
       "      <td>61+3</td>\n",
       "      <td>19+3</td>\n",
       "      <td>https://cdn.sofifa.net/players/158/023/22_120.png</td>\n",
       "      <td>https://cdn.sofifa.net/teams/73/60.png</td>\n",
       "      <td>https://cdn.sofifa.net/flags/fr.png</td>\n",
       "      <td>https://cdn.sofifa.net/teams/1369/60.png</td>\n",
       "      <td>https://cdn.sofifa.net/flags/ar.png</td>\n",
       "    </tr>\n",
       "    <tr>\n",
       "      <th>1</th>\n",
       "      <td>188545</td>\n",
       "      <td>https://sofifa.com/player/188545/robert-lewand...</td>\n",
       "      <td>R. Lewandowski</td>\n",
       "      <td>Robert Lewandowski</td>\n",
       "      <td>ST</td>\n",
       "      <td>92</td>\n",
       "      <td>92</td>\n",
       "      <td>119500000.0</td>\n",
       "      <td>270000.0</td>\n",
       "      <td>32</td>\n",
       "      <td>...</td>\n",
       "      <td>60+3</td>\n",
       "      <td>60+3</td>\n",
       "      <td>60+3</td>\n",
       "      <td>61+3</td>\n",
       "      <td>19+3</td>\n",
       "      <td>https://cdn.sofifa.net/players/188/545/22_120.png</td>\n",
       "      <td>https://cdn.sofifa.net/teams/21/60.png</td>\n",
       "      <td>https://cdn.sofifa.net/flags/de.png</td>\n",
       "      <td>https://cdn.sofifa.net/teams/1353/60.png</td>\n",
       "      <td>https://cdn.sofifa.net/flags/pl.png</td>\n",
       "    </tr>\n",
       "    <tr>\n",
       "      <th>2</th>\n",
       "      <td>20801</td>\n",
       "      <td>https://sofifa.com/player/20801/c-ronaldo-dos-...</td>\n",
       "      <td>Cristiano Ronaldo</td>\n",
       "      <td>Cristiano Ronaldo dos Santos Aveiro</td>\n",
       "      <td>ST, LW</td>\n",
       "      <td>91</td>\n",
       "      <td>91</td>\n",
       "      <td>45000000.0</td>\n",
       "      <td>270000.0</td>\n",
       "      <td>36</td>\n",
       "      <td>...</td>\n",
       "      <td>53+3</td>\n",
       "      <td>53+3</td>\n",
       "      <td>53+3</td>\n",
       "      <td>60+3</td>\n",
       "      <td>20+3</td>\n",
       "      <td>https://cdn.sofifa.net/players/020/801/22_120.png</td>\n",
       "      <td>https://cdn.sofifa.net/teams/11/60.png</td>\n",
       "      <td>https://cdn.sofifa.net/flags/gb-eng.png</td>\n",
       "      <td>https://cdn.sofifa.net/teams/1354/60.png</td>\n",
       "      <td>https://cdn.sofifa.net/flags/pt.png</td>\n",
       "    </tr>\n",
       "    <tr>\n",
       "      <th>3</th>\n",
       "      <td>190871</td>\n",
       "      <td>https://sofifa.com/player/190871/neymar-da-sil...</td>\n",
       "      <td>Neymar Jr</td>\n",
       "      <td>Neymar da Silva Santos Júnior</td>\n",
       "      <td>LW, CAM</td>\n",
       "      <td>91</td>\n",
       "      <td>91</td>\n",
       "      <td>129000000.0</td>\n",
       "      <td>270000.0</td>\n",
       "      <td>29</td>\n",
       "      <td>...</td>\n",
       "      <td>50+3</td>\n",
       "      <td>50+3</td>\n",
       "      <td>50+3</td>\n",
       "      <td>62+3</td>\n",
       "      <td>20+3</td>\n",
       "      <td>https://cdn.sofifa.net/players/190/871/22_120.png</td>\n",
       "      <td>https://cdn.sofifa.net/teams/73/60.png</td>\n",
       "      <td>https://cdn.sofifa.net/flags/fr.png</td>\n",
       "      <td>NaN</td>\n",
       "      <td>https://cdn.sofifa.net/flags/br.png</td>\n",
       "    </tr>\n",
       "    <tr>\n",
       "      <th>4</th>\n",
       "      <td>192985</td>\n",
       "      <td>https://sofifa.com/player/192985/kevin-de-bruy...</td>\n",
       "      <td>K. De Bruyne</td>\n",
       "      <td>Kevin De Bruyne</td>\n",
       "      <td>CM, CAM</td>\n",
       "      <td>91</td>\n",
       "      <td>91</td>\n",
       "      <td>125500000.0</td>\n",
       "      <td>350000.0</td>\n",
       "      <td>30</td>\n",
       "      <td>...</td>\n",
       "      <td>69+3</td>\n",
       "      <td>69+3</td>\n",
       "      <td>69+3</td>\n",
       "      <td>75+3</td>\n",
       "      <td>21+3</td>\n",
       "      <td>https://cdn.sofifa.net/players/192/985/22_120.png</td>\n",
       "      <td>https://cdn.sofifa.net/teams/10/60.png</td>\n",
       "      <td>https://cdn.sofifa.net/flags/gb-eng.png</td>\n",
       "      <td>https://cdn.sofifa.net/teams/1325/60.png</td>\n",
       "      <td>https://cdn.sofifa.net/flags/be.png</td>\n",
       "    </tr>\n",
       "  </tbody>\n",
       "</table>\n",
       "<p>5 rows × 110 columns</p>\n",
       "</div>"
      ],
      "text/plain": [
       "   sofifa_id                                         player_url  \\\n",
       "0     158023  https://sofifa.com/player/158023/lionel-messi/...   \n",
       "1     188545  https://sofifa.com/player/188545/robert-lewand...   \n",
       "2      20801  https://sofifa.com/player/20801/c-ronaldo-dos-...   \n",
       "3     190871  https://sofifa.com/player/190871/neymar-da-sil...   \n",
       "4     192985  https://sofifa.com/player/192985/kevin-de-bruy...   \n",
       "\n",
       "          short_name                            long_name player_positions  \\\n",
       "0           L. Messi       Lionel Andrés Messi Cuccittini       RW, ST, CF   \n",
       "1     R. Lewandowski                   Robert Lewandowski               ST   \n",
       "2  Cristiano Ronaldo  Cristiano Ronaldo dos Santos Aveiro           ST, LW   \n",
       "3          Neymar Jr        Neymar da Silva Santos Júnior          LW, CAM   \n",
       "4       K. De Bruyne                      Kevin De Bruyne          CM, CAM   \n",
       "\n",
       "   overall  potential    value_eur  wage_eur  age  ...   lcb    cb   rcb  \\\n",
       "0       93         93   78000000.0  320000.0   34  ...  50+3  50+3  50+3   \n",
       "1       92         92  119500000.0  270000.0   32  ...  60+3  60+3  60+3   \n",
       "2       91         91   45000000.0  270000.0   36  ...  53+3  53+3  53+3   \n",
       "3       91         91  129000000.0  270000.0   29  ...  50+3  50+3  50+3   \n",
       "4       91         91  125500000.0  350000.0   30  ...  69+3  69+3  69+3   \n",
       "\n",
       "     rb    gk                                    player_face_url  \\\n",
       "0  61+3  19+3  https://cdn.sofifa.net/players/158/023/22_120.png   \n",
       "1  61+3  19+3  https://cdn.sofifa.net/players/188/545/22_120.png   \n",
       "2  60+3  20+3  https://cdn.sofifa.net/players/020/801/22_120.png   \n",
       "3  62+3  20+3  https://cdn.sofifa.net/players/190/871/22_120.png   \n",
       "4  75+3  21+3  https://cdn.sofifa.net/players/192/985/22_120.png   \n",
       "\n",
       "                            club_logo_url  \\\n",
       "0  https://cdn.sofifa.net/teams/73/60.png   \n",
       "1  https://cdn.sofifa.net/teams/21/60.png   \n",
       "2  https://cdn.sofifa.net/teams/11/60.png   \n",
       "3  https://cdn.sofifa.net/teams/73/60.png   \n",
       "4  https://cdn.sofifa.net/teams/10/60.png   \n",
       "\n",
       "                             club_flag_url  \\\n",
       "0      https://cdn.sofifa.net/flags/fr.png   \n",
       "1      https://cdn.sofifa.net/flags/de.png   \n",
       "2  https://cdn.sofifa.net/flags/gb-eng.png   \n",
       "3      https://cdn.sofifa.net/flags/fr.png   \n",
       "4  https://cdn.sofifa.net/flags/gb-eng.png   \n",
       "\n",
       "                            nation_logo_url  \\\n",
       "0  https://cdn.sofifa.net/teams/1369/60.png   \n",
       "1  https://cdn.sofifa.net/teams/1353/60.png   \n",
       "2  https://cdn.sofifa.net/teams/1354/60.png   \n",
       "3                                       NaN   \n",
       "4  https://cdn.sofifa.net/teams/1325/60.png   \n",
       "\n",
       "                       nation_flag_url  \n",
       "0  https://cdn.sofifa.net/flags/ar.png  \n",
       "1  https://cdn.sofifa.net/flags/pl.png  \n",
       "2  https://cdn.sofifa.net/flags/pt.png  \n",
       "3  https://cdn.sofifa.net/flags/br.png  \n",
       "4  https://cdn.sofifa.net/flags/be.png  \n",
       "\n",
       "[5 rows x 110 columns]"
      ]
     },
     "execution_count": 68,
     "metadata": {},
     "output_type": "execute_result"
    }
   ],
   "source": [
    "data = pd.read_csv('players_22.csv')\n",
    "\n",
    "#data = shuffle(data)\n",
    "\n",
    "#data = data[data['overall']>69]\n",
    "\n",
    "data = data[:5500]\n",
    "\n",
    "data.shape\n",
    "data.head()"
   ]
  },
  {
   "cell_type": "code",
   "execution_count": 69,
   "metadata": {},
   "outputs": [],
   "source": [
    "\n",
    "arquero = ['GK']\n",
    "defensor = ['CB', 'LCB', 'RCB', 'LB' , 'RB']\n",
    "mediocampista = ['CM', 'LDM', 'LAM', 'RDM', 'CDM', 'CAM', 'LM', 'RM']\n",
    "atacante = ['ST', 'CF', 'LW', 'RW']\n",
    "\n",
    "data['posicion'] = ''\n",
    "for i, posicion_del_jugador in enumerate(data['player_positions']):\n",
    "    for posicion in arquero:\n",
    "        if posicion in posicion_del_jugador:\n",
    "            data.loc[i, 'posicion'] = 3.\n",
    "    for posicion in defensor:\n",
    "        if posicion in posicion_del_jugador:\n",
    "            data.loc[i, 'posicion'] = 0.\n",
    "    for posicion in mediocampista:\n",
    "        if posicion in posicion_del_jugador:\n",
    "            data.loc[i, 'posicion'] = 1.\n",
    "    for posicion in atacante:\n",
    "        if posicion in posicion_del_jugador:\n",
    "            data.loc[i, 'posicion'] = 2.   "
   ]
  },
  {
   "cell_type": "code",
   "execution_count": 70,
   "metadata": {},
   "outputs": [
    {
     "data": {
      "text/html": [
       "<div>\n",
       "<style scoped>\n",
       "    .dataframe tbody tr th:only-of-type {\n",
       "        vertical-align: middle;\n",
       "    }\n",
       "\n",
       "    .dataframe tbody tr th {\n",
       "        vertical-align: top;\n",
       "    }\n",
       "\n",
       "    .dataframe thead th {\n",
       "        text-align: right;\n",
       "    }\n",
       "</style>\n",
       "<table border=\"1\" class=\"dataframe\">\n",
       "  <thead>\n",
       "    <tr style=\"text-align: right;\">\n",
       "      <th></th>\n",
       "      <th>sofifa_id</th>\n",
       "      <th>player_url</th>\n",
       "      <th>short_name</th>\n",
       "      <th>long_name</th>\n",
       "      <th>player_positions</th>\n",
       "      <th>overall</th>\n",
       "      <th>potential</th>\n",
       "      <th>value_eur</th>\n",
       "      <th>wage_eur</th>\n",
       "      <th>age</th>\n",
       "      <th>...</th>\n",
       "      <th>cb</th>\n",
       "      <th>rcb</th>\n",
       "      <th>rb</th>\n",
       "      <th>gk</th>\n",
       "      <th>player_face_url</th>\n",
       "      <th>club_logo_url</th>\n",
       "      <th>club_flag_url</th>\n",
       "      <th>nation_logo_url</th>\n",
       "      <th>nation_flag_url</th>\n",
       "      <th>posicion</th>\n",
       "    </tr>\n",
       "  </thead>\n",
       "  <tbody>\n",
       "    <tr>\n",
       "      <th>0</th>\n",
       "      <td>158023</td>\n",
       "      <td>https://sofifa.com/player/158023/lionel-messi/...</td>\n",
       "      <td>L. Messi</td>\n",
       "      <td>Lionel Andrés Messi Cuccittini</td>\n",
       "      <td>RW, ST, CF</td>\n",
       "      <td>93</td>\n",
       "      <td>93</td>\n",
       "      <td>78000000.0</td>\n",
       "      <td>320000.0</td>\n",
       "      <td>34</td>\n",
       "      <td>...</td>\n",
       "      <td>50+3</td>\n",
       "      <td>50+3</td>\n",
       "      <td>61+3</td>\n",
       "      <td>19+3</td>\n",
       "      <td>https://cdn.sofifa.net/players/158/023/22_120.png</td>\n",
       "      <td>https://cdn.sofifa.net/teams/73/60.png</td>\n",
       "      <td>https://cdn.sofifa.net/flags/fr.png</td>\n",
       "      <td>https://cdn.sofifa.net/teams/1369/60.png</td>\n",
       "      <td>https://cdn.sofifa.net/flags/ar.png</td>\n",
       "      <td>2</td>\n",
       "    </tr>\n",
       "    <tr>\n",
       "      <th>1</th>\n",
       "      <td>188545</td>\n",
       "      <td>https://sofifa.com/player/188545/robert-lewand...</td>\n",
       "      <td>R. Lewandowski</td>\n",
       "      <td>Robert Lewandowski</td>\n",
       "      <td>ST</td>\n",
       "      <td>92</td>\n",
       "      <td>92</td>\n",
       "      <td>119500000.0</td>\n",
       "      <td>270000.0</td>\n",
       "      <td>32</td>\n",
       "      <td>...</td>\n",
       "      <td>60+3</td>\n",
       "      <td>60+3</td>\n",
       "      <td>61+3</td>\n",
       "      <td>19+3</td>\n",
       "      <td>https://cdn.sofifa.net/players/188/545/22_120.png</td>\n",
       "      <td>https://cdn.sofifa.net/teams/21/60.png</td>\n",
       "      <td>https://cdn.sofifa.net/flags/de.png</td>\n",
       "      <td>https://cdn.sofifa.net/teams/1353/60.png</td>\n",
       "      <td>https://cdn.sofifa.net/flags/pl.png</td>\n",
       "      <td>2</td>\n",
       "    </tr>\n",
       "    <tr>\n",
       "      <th>2</th>\n",
       "      <td>20801</td>\n",
       "      <td>https://sofifa.com/player/20801/c-ronaldo-dos-...</td>\n",
       "      <td>Cristiano Ronaldo</td>\n",
       "      <td>Cristiano Ronaldo dos Santos Aveiro</td>\n",
       "      <td>ST, LW</td>\n",
       "      <td>91</td>\n",
       "      <td>91</td>\n",
       "      <td>45000000.0</td>\n",
       "      <td>270000.0</td>\n",
       "      <td>36</td>\n",
       "      <td>...</td>\n",
       "      <td>53+3</td>\n",
       "      <td>53+3</td>\n",
       "      <td>60+3</td>\n",
       "      <td>20+3</td>\n",
       "      <td>https://cdn.sofifa.net/players/020/801/22_120.png</td>\n",
       "      <td>https://cdn.sofifa.net/teams/11/60.png</td>\n",
       "      <td>https://cdn.sofifa.net/flags/gb-eng.png</td>\n",
       "      <td>https://cdn.sofifa.net/teams/1354/60.png</td>\n",
       "      <td>https://cdn.sofifa.net/flags/pt.png</td>\n",
       "      <td>2</td>\n",
       "    </tr>\n",
       "    <tr>\n",
       "      <th>3</th>\n",
       "      <td>190871</td>\n",
       "      <td>https://sofifa.com/player/190871/neymar-da-sil...</td>\n",
       "      <td>Neymar Jr</td>\n",
       "      <td>Neymar da Silva Santos Júnior</td>\n",
       "      <td>LW, CAM</td>\n",
       "      <td>91</td>\n",
       "      <td>91</td>\n",
       "      <td>129000000.0</td>\n",
       "      <td>270000.0</td>\n",
       "      <td>29</td>\n",
       "      <td>...</td>\n",
       "      <td>50+3</td>\n",
       "      <td>50+3</td>\n",
       "      <td>62+3</td>\n",
       "      <td>20+3</td>\n",
       "      <td>https://cdn.sofifa.net/players/190/871/22_120.png</td>\n",
       "      <td>https://cdn.sofifa.net/teams/73/60.png</td>\n",
       "      <td>https://cdn.sofifa.net/flags/fr.png</td>\n",
       "      <td>NaN</td>\n",
       "      <td>https://cdn.sofifa.net/flags/br.png</td>\n",
       "      <td>2</td>\n",
       "    </tr>\n",
       "    <tr>\n",
       "      <th>4</th>\n",
       "      <td>192985</td>\n",
       "      <td>https://sofifa.com/player/192985/kevin-de-bruy...</td>\n",
       "      <td>K. De Bruyne</td>\n",
       "      <td>Kevin De Bruyne</td>\n",
       "      <td>CM, CAM</td>\n",
       "      <td>91</td>\n",
       "      <td>91</td>\n",
       "      <td>125500000.0</td>\n",
       "      <td>350000.0</td>\n",
       "      <td>30</td>\n",
       "      <td>...</td>\n",
       "      <td>69+3</td>\n",
       "      <td>69+3</td>\n",
       "      <td>75+3</td>\n",
       "      <td>21+3</td>\n",
       "      <td>https://cdn.sofifa.net/players/192/985/22_120.png</td>\n",
       "      <td>https://cdn.sofifa.net/teams/10/60.png</td>\n",
       "      <td>https://cdn.sofifa.net/flags/gb-eng.png</td>\n",
       "      <td>https://cdn.sofifa.net/teams/1325/60.png</td>\n",
       "      <td>https://cdn.sofifa.net/flags/be.png</td>\n",
       "      <td>1</td>\n",
       "    </tr>\n",
       "  </tbody>\n",
       "</table>\n",
       "<p>5 rows × 111 columns</p>\n",
       "</div>"
      ],
      "text/plain": [
       "   sofifa_id                                         player_url  \\\n",
       "0     158023  https://sofifa.com/player/158023/lionel-messi/...   \n",
       "1     188545  https://sofifa.com/player/188545/robert-lewand...   \n",
       "2      20801  https://sofifa.com/player/20801/c-ronaldo-dos-...   \n",
       "3     190871  https://sofifa.com/player/190871/neymar-da-sil...   \n",
       "4     192985  https://sofifa.com/player/192985/kevin-de-bruy...   \n",
       "\n",
       "          short_name                            long_name player_positions  \\\n",
       "0           L. Messi       Lionel Andrés Messi Cuccittini       RW, ST, CF   \n",
       "1     R. Lewandowski                   Robert Lewandowski               ST   \n",
       "2  Cristiano Ronaldo  Cristiano Ronaldo dos Santos Aveiro           ST, LW   \n",
       "3          Neymar Jr        Neymar da Silva Santos Júnior          LW, CAM   \n",
       "4       K. De Bruyne                      Kevin De Bruyne          CM, CAM   \n",
       "\n",
       "   overall  potential    value_eur  wage_eur  age  ...    cb   rcb    rb  \\\n",
       "0       93         93   78000000.0  320000.0   34  ...  50+3  50+3  61+3   \n",
       "1       92         92  119500000.0  270000.0   32  ...  60+3  60+3  61+3   \n",
       "2       91         91   45000000.0  270000.0   36  ...  53+3  53+3  60+3   \n",
       "3       91         91  129000000.0  270000.0   29  ...  50+3  50+3  62+3   \n",
       "4       91         91  125500000.0  350000.0   30  ...  69+3  69+3  75+3   \n",
       "\n",
       "     gk                                    player_face_url  \\\n",
       "0  19+3  https://cdn.sofifa.net/players/158/023/22_120.png   \n",
       "1  19+3  https://cdn.sofifa.net/players/188/545/22_120.png   \n",
       "2  20+3  https://cdn.sofifa.net/players/020/801/22_120.png   \n",
       "3  20+3  https://cdn.sofifa.net/players/190/871/22_120.png   \n",
       "4  21+3  https://cdn.sofifa.net/players/192/985/22_120.png   \n",
       "\n",
       "                            club_logo_url  \\\n",
       "0  https://cdn.sofifa.net/teams/73/60.png   \n",
       "1  https://cdn.sofifa.net/teams/21/60.png   \n",
       "2  https://cdn.sofifa.net/teams/11/60.png   \n",
       "3  https://cdn.sofifa.net/teams/73/60.png   \n",
       "4  https://cdn.sofifa.net/teams/10/60.png   \n",
       "\n",
       "                             club_flag_url  \\\n",
       "0      https://cdn.sofifa.net/flags/fr.png   \n",
       "1      https://cdn.sofifa.net/flags/de.png   \n",
       "2  https://cdn.sofifa.net/flags/gb-eng.png   \n",
       "3      https://cdn.sofifa.net/flags/fr.png   \n",
       "4  https://cdn.sofifa.net/flags/gb-eng.png   \n",
       "\n",
       "                            nation_logo_url  \\\n",
       "0  https://cdn.sofifa.net/teams/1369/60.png   \n",
       "1  https://cdn.sofifa.net/teams/1353/60.png   \n",
       "2  https://cdn.sofifa.net/teams/1354/60.png   \n",
       "3                                       NaN   \n",
       "4  https://cdn.sofifa.net/teams/1325/60.png   \n",
       "\n",
       "                       nation_flag_url posicion  \n",
       "0  https://cdn.sofifa.net/flags/ar.png        2  \n",
       "1  https://cdn.sofifa.net/flags/pl.png        2  \n",
       "2  https://cdn.sofifa.net/flags/pt.png        2  \n",
       "3  https://cdn.sofifa.net/flags/br.png        2  \n",
       "4  https://cdn.sofifa.net/flags/be.png        1  \n",
       "\n",
       "[5 rows x 111 columns]"
      ]
     },
     "execution_count": 70,
     "metadata": {},
     "output_type": "execute_result"
    }
   ],
   "source": [
    "data.head()"
   ]
  },
  {
   "cell_type": "code",
   "execution_count": 71,
   "metadata": {},
   "outputs": [
    {
     "name": "stdout",
     "output_type": "stream",
     "text": [
      "club_loaned_from             0.933818\n",
      "goalkeeping_speed            0.901818\n",
      "nation_team_id               0.888182\n",
      "nation_logo_url              0.888182\n",
      "nation_jersey_number         0.888182\n",
      "nation_position              0.888182\n",
      "player_tags                  0.836364\n",
      "player_traits                0.210727\n",
      "passing                      0.098182\n",
      "defending                    0.098182\n",
      "physic                       0.098182\n",
      "dribbling                    0.098182\n",
      "shooting                     0.098182\n",
      "pace                         0.098182\n",
      "release_clause_eur           0.072182\n",
      "club_joined                  0.071273\n",
      "value_eur                    0.006000\n",
      "club_contract_valid_until    0.005091\n",
      "club_position                0.005091\n",
      "club_jersey_number           0.005091\n",
      "club_name                    0.005091\n",
      "league_level                 0.005091\n",
      "league_name                  0.005091\n",
      "club_team_id                 0.005091\n",
      "wage_eur                     0.005091\n",
      "club_logo_url                0.005091\n",
      "club_flag_url                0.005091\n",
      "dtype: float64\n"
     ]
    }
   ],
   "source": [
    "nans = data.isna().sum().sort_values(ascending=False)\n",
    "print(nans[nans!=0]/data.shape[0])"
   ]
  },
  {
   "cell_type": "code",
   "execution_count": 72,
   "metadata": {},
   "outputs": [
    {
     "name": "stdout",
     "output_type": "stream",
     "text": [
      "club_loaned_from\n",
      "goalkeeping_speed\n",
      "nation_team_id\n",
      "nation_logo_url\n",
      "nation_jersey_number\n",
      "nation_position\n",
      "player_tags\n"
     ]
    }
   ],
   "source": [
    "drop_vars = nans[list(nans/data.shape[0] > 0.5)].keys()\n",
    "for var in drop_vars:\n",
    "    print(var)\n",
    "    data.drop(var,inplace=True,axis=1)"
   ]
  },
  {
   "cell_type": "code",
   "execution_count": 73,
   "metadata": {},
   "outputs": [],
   "source": [
    "data.fillna(data.mean(), inplace=True)"
   ]
  },
  {
   "cell_type": "code",
   "execution_count": 74,
   "metadata": {},
   "outputs": [],
   "source": [
    "cols = ['overall', 'potential', 'value_eur', 'wage_eur', 'age', 'height_cm',\n",
    "       'weight_kg', 'release_clause_eur', 'pace', 'shooting', 'passing',\n",
    "       'dribbling', 'defending', 'physic', 'attacking_crossing',\n",
    "       'attacking_finishing', 'attacking_heading_accuracy',\n",
    "       'attacking_short_passing', 'attacking_volleys', 'skill_dribbling',\n",
    "       'skill_curve', 'skill_fk_accuracy', 'skill_long_passing',\n",
    "       'skill_ball_control', 'movement_acceleration', 'movement_sprint_speed',\n",
    "       'movement_agility', 'movement_reactions', 'movement_balance',\n",
    "       'power_shot_power', 'power_jumping', 'power_stamina', 'power_strength',\n",
    "       'power_long_shots', 'mentality_aggression', 'mentality_interceptions',\n",
    "       'mentality_positioning', 'mentality_vision', 'mentality_penalties',\n",
    "       'mentality_composure', 'defending_marking_awareness',\n",
    "       'defending_standing_tackle', 'defending_sliding_tackle']\n",
    "\n",
    "\n",
    "y = ['posicion']\n",
    "x = cols\n",
    "x_train, x_test, y_train, y_test = train_test_split(data[x],data[y], test_size=0.3)"
   ]
  },
  {
   "cell_type": "code",
   "execution_count": 62,
   "metadata": {},
   "outputs": [],
   "source": [
    "MLA = [\n",
    "    ###Ensemble Methods\n",
    "    ensemble.AdaBoostClassifier(),\n",
    "    ensemble.BaggingClassifier(),\n",
    "    #ensemble.ExtraTreesClassifier(),\n",
    "    #ensemble.GradientBoostingClassifier(),\n",
    "    #ensemble.RandomForestClassifier(),\n",
    "\n",
    "    ###GLM\n",
    "    #linear_model.LogisticRegressionCV(),\n",
    "    #linear_model.SGDClassifier(),\n",
    "    \n",
    "    ###Nearest Neighbor\n",
    "    #neighbors.KNeighborsClassifier(),\n",
    "    \n",
    "    ###SVM\n",
    "    #svm.SVC(probability=True),\n",
    "    #svm.NuSVC(probability=True, nu=0.1),\n",
    "    #svm.LinearSVC(),\n",
    "    \n",
    "    ###Trees    \n",
    "    #tree.DecisionTreeClassifier(),\n",
    "    #tree.ExtraTreeClassifier(),\n",
    "    \n",
    "    ###Discriminant Analysis\n",
    "    #discriminant_analysis.LinearDiscriminantAnalysis(),\n",
    "    #discriminant_analysis.QuadraticDiscriminantAnalysis(),\n",
    "\n",
    "    ###xgboost: \n",
    "    #XGBClassifier()    \n",
    "    ]\n",
    "    \n",
    "    #split dataset in cross-validation with this splitter class\n",
    "cv_split = model_selection.ShuffleSplit(n_splits = 10, test_size = .3, train_size = .6, random_state = 0 ) # run model 10x with 60/30 split intentionally leaving out 10%\n",
    "\n",
    "#create table to compare MLA metrics\n",
    "MLA_columns = ['MLA Name', 'Exactitud', 'Tasa de mala clasificacion' , 'Tiempo']\n",
    "MLA_compare = pd.DataFrame(columns = MLA_columns)\n",
    "\n",
    "#create table to compare MLA predictions\n",
    "MLA_predict = y_train[y]\n",
    "MLA_test = y_test[y]\n",
    "#index through MLA and save performance to table\n",
    "row_index = 1\n",
    "for alg in MLA:\n",
    "\n",
    "#set name and parameters\n",
    "    MLA_name = alg.__class__.__name__\n",
    "    \n",
    "    MLA_compare.loc[row_index, 'MLA Name'] = MLA_name\n",
    "    \n",
    "\n",
    "    #cv_results = model_selection.cross_validate(alg,x_train[x],  y_train[y], return_train_score=True, cv  = cv_split)\n",
    "    cv_results = \n",
    "\n",
    "    MLA_compare.loc[row_index, 'Tiempo'] = cv_results['fit_time'].mean()\n",
    "    MLA_compare.loc[row_index, 'Exactitud'] = round(cv_results['test_score'].mean(),2)   \n",
    "    MLA_compare.loc[row_index, 'Tasa de mala clasificacion'] =round(1- cv_results['test_score'].mean(),2) \n",
    "\n",
    "    alg.fit(x_train[x],  y_train[y])\n",
    "    MLA_predict[MLA_name] = alg.predict(x_train[x])\n",
    "    MLA_test[MLA_name] = alg.predict(x_test[x])\n",
    "    row_index+=1\n",
    "    \n",
    "    \n",
    "MLA_compare.sort_values(by = ['Exactitud'], ascending = False, inplace = True)\n"
   ]
  },
  {
   "cell_type": "code",
   "execution_count": 63,
   "metadata": {},
   "outputs": [
    {
     "data": {
      "text/html": [
       "<div>\n",
       "<style scoped>\n",
       "    .dataframe tbody tr th:only-of-type {\n",
       "        vertical-align: middle;\n",
       "    }\n",
       "\n",
       "    .dataframe tbody tr th {\n",
       "        vertical-align: top;\n",
       "    }\n",
       "\n",
       "    .dataframe thead th {\n",
       "        text-align: right;\n",
       "    }\n",
       "</style>\n",
       "<table border=\"1\" class=\"dataframe\">\n",
       "  <thead>\n",
       "    <tr style=\"text-align: right;\">\n",
       "      <th></th>\n",
       "      <th>MLA Name</th>\n",
       "      <th>Exactitud</th>\n",
       "      <th>Tasa de mala clasificacion</th>\n",
       "      <th>Tiempo</th>\n",
       "    </tr>\n",
       "  </thead>\n",
       "  <tbody>\n",
       "    <tr>\n",
       "      <th>3</th>\n",
       "      <td>ExtraTreesClassifier</td>\n",
       "      <td>0.8</td>\n",
       "      <td>0.2</td>\n",
       "      <td>0.382038</td>\n",
       "    </tr>\n",
       "    <tr>\n",
       "      <th>4</th>\n",
       "      <td>GradientBoostingClassifier</td>\n",
       "      <td>0.8</td>\n",
       "      <td>0.2</td>\n",
       "      <td>4.8862</td>\n",
       "    </tr>\n",
       "    <tr>\n",
       "      <th>5</th>\n",
       "      <td>RandomForestClassifier</td>\n",
       "      <td>0.79</td>\n",
       "      <td>0.21</td>\n",
       "      <td>0.628146</td>\n",
       "    </tr>\n",
       "    <tr>\n",
       "      <th>2</th>\n",
       "      <td>BaggingClassifier</td>\n",
       "      <td>0.78</td>\n",
       "      <td>0.22</td>\n",
       "      <td>0.315699</td>\n",
       "    </tr>\n",
       "    <tr>\n",
       "      <th>1</th>\n",
       "      <td>AdaBoostClassifier</td>\n",
       "      <td>0.59</td>\n",
       "      <td>0.41</td>\n",
       "      <td>0.37111</td>\n",
       "    </tr>\n",
       "    <tr>\n",
       "      <th>6</th>\n",
       "      <td>LogisticRegressionCV</td>\n",
       "      <td>0.32</td>\n",
       "      <td>0.68</td>\n",
       "      <td>0.9508</td>\n",
       "    </tr>\n",
       "    <tr>\n",
       "      <th>7</th>\n",
       "      <td>SGDClassifier</td>\n",
       "      <td>0.26</td>\n",
       "      <td>0.74</td>\n",
       "      <td>0.0505332</td>\n",
       "    </tr>\n",
       "  </tbody>\n",
       "</table>\n",
       "</div>"
      ],
      "text/plain": [
       "                     MLA Name Exactitud Tasa de mala clasificacion     Tiempo\n",
       "3        ExtraTreesClassifier       0.8                        0.2   0.382038\n",
       "4  GradientBoostingClassifier       0.8                        0.2     4.8862\n",
       "5      RandomForestClassifier      0.79                       0.21   0.628146\n",
       "2           BaggingClassifier      0.78                       0.22   0.315699\n",
       "1          AdaBoostClassifier      0.59                       0.41    0.37111\n",
       "6        LogisticRegressionCV      0.32                       0.68     0.9508\n",
       "7               SGDClassifier      0.26                       0.74  0.0505332"
      ]
     },
     "execution_count": 63,
     "metadata": {},
     "output_type": "execute_result"
    }
   ],
   "source": [
    "MLA_compare"
   ]
  },
  {
   "cell_type": "code",
   "execution_count": 75,
   "metadata": {},
   "outputs": [],
   "source": [
    "MLA = [\n",
    "    ###Ensemble Methods\n",
    "    ensemble.AdaBoostClassifier(),\n",
    "    ensemble.BaggingClassifier(),\n",
    "    ensemble.ExtraTreesClassifier(),\n",
    "    ensemble.GradientBoostingClassifier(),\n",
    "    ensemble.RandomForestClassifier(),\n",
    "\n",
    "    ###GLM\n",
    "    linear_model.LogisticRegressionCV(),\n",
    "    linear_model.SGDClassifier(),\n",
    "    \n",
    "    ###Nearest Neighbor\n",
    "    neighbors.KNeighborsClassifier(),\n",
    "    \n",
    "    ###SVM\n",
    "    svm.SVC(probability=True),\n",
    "    svm.NuSVC(probability=True, nu=0.1),\n",
    "    svm.LinearSVC(),\n",
    "    \n",
    "    ###Trees    \n",
    "    tree.DecisionTreeClassifier(),\n",
    "    tree.ExtraTreeClassifier(),\n",
    "    \n",
    "    ###Discriminant Analysis\n",
    "    discriminant_analysis.LinearDiscriminantAnalysis(),\n",
    "    discriminant_analysis.QuadraticDiscriminantAnalysis(),\n",
    "\n",
    "    ###xgboost: \n",
    "    XGBClassifier()    \n",
    "    ]\n",
    "     \n",
    "    \n",
    "    #split dataset in cross-validation with this splitter class\n",
    "#cv_split = model_selection.ShuffleSplit(n_splits = 10, test_size = .3, train_size = .6, random_state = 0 ) # run model 10x with 60/30 split intentionally leaving out 10%\n",
    "\n",
    "#create table to compare MLA metrics\n",
    "MLA_columns = ['MLA Name', 'Exactitud', 'Tasa de mala clasificacion']\n",
    "MLA_compare = pd.DataFrame(columns = MLA_columns)\n",
    "\n",
    "#create table to compare MLA predictions\n",
    "MLA_predict = y_train[y]\n",
    "MLA_test = y_test[y]\n",
    "#index through MLA and save performance to table\n",
    "row_index = 1\n",
    "for alg in MLA:\n",
    "\n",
    "#set name and parameters\n",
    "    MLA_name = alg.__class__.__name__\n",
    "    \n",
    "    MLA_compare.loc[row_index, 'MLA Name'] = MLA_name\n",
    "    \n",
    "\n",
    "    #cv_results = model_selection.cross_validate(alg,x_train[x],  y_train[y], return_train_score=True, cv  = cv_split)\n",
    "    \n",
    "    alg.fit(x_train[x],  y_train[y])\n",
    "    cv_results = alg.score(x_test[x], y_test[y])\n",
    "\n",
    "    #MLA_compare.loc[row_index, 'Tiempo'] = cv_results['fit_time'].mean()\n",
    "    MLA_compare.loc[row_index, 'Exactitud'] = round(cv_results, 2)   \n",
    "    MLA_compare.loc[row_index, 'Tasa de mala clasificacion'] =round(1- cv_results, 2) \n",
    "\n",
    "    #alg.fit(x_train[x],  y_train[y])\n",
    "    MLA_predict[MLA_name] = alg.predict(x_train[x])\n",
    "    MLA_test[MLA_name] = alg.predict(x_test[x])\n",
    "    row_index+=1\n",
    "    \n",
    "    \n",
    "#MLA_compare.sort_values(by = ['Exactitud'], ascending = False, inplace = True)\n"
   ]
  },
  {
   "cell_type": "code",
   "execution_count": 76,
   "metadata": {},
   "outputs": [
    {
     "data": {
      "text/html": [
       "<div>\n",
       "<style scoped>\n",
       "    .dataframe tbody tr th:only-of-type {\n",
       "        vertical-align: middle;\n",
       "    }\n",
       "\n",
       "    .dataframe tbody tr th {\n",
       "        vertical-align: top;\n",
       "    }\n",
       "\n",
       "    .dataframe thead th {\n",
       "        text-align: right;\n",
       "    }\n",
       "</style>\n",
       "<table border=\"1\" class=\"dataframe\">\n",
       "  <thead>\n",
       "    <tr style=\"text-align: right;\">\n",
       "      <th></th>\n",
       "      <th>MLA Name</th>\n",
       "      <th>Exactitud</th>\n",
       "      <th>Tasa de mala clasificacion</th>\n",
       "    </tr>\n",
       "  </thead>\n",
       "  <tbody>\n",
       "    <tr>\n",
       "      <th>5</th>\n",
       "      <td>RandomForestClassifier</td>\n",
       "      <td>0.8</td>\n",
       "      <td>0.2</td>\n",
       "    </tr>\n",
       "    <tr>\n",
       "      <th>3</th>\n",
       "      <td>ExtraTreesClassifier</td>\n",
       "      <td>0.79</td>\n",
       "      <td>0.21</td>\n",
       "    </tr>\n",
       "    <tr>\n",
       "      <th>4</th>\n",
       "      <td>GradientBoostingClassifier</td>\n",
       "      <td>0.79</td>\n",
       "      <td>0.21</td>\n",
       "    </tr>\n",
       "    <tr>\n",
       "      <th>14</th>\n",
       "      <td>LinearDiscriminantAnalysis</td>\n",
       "      <td>0.79</td>\n",
       "      <td>0.21</td>\n",
       "    </tr>\n",
       "    <tr>\n",
       "      <th>16</th>\n",
       "      <td>XGBClassifier</td>\n",
       "      <td>0.79</td>\n",
       "      <td>0.21</td>\n",
       "    </tr>\n",
       "    <tr>\n",
       "      <th>2</th>\n",
       "      <td>BaggingClassifier</td>\n",
       "      <td>0.77</td>\n",
       "      <td>0.23</td>\n",
       "    </tr>\n",
       "    <tr>\n",
       "      <th>15</th>\n",
       "      <td>QuadraticDiscriminantAnalysis</td>\n",
       "      <td>0.77</td>\n",
       "      <td>0.23</td>\n",
       "    </tr>\n",
       "    <tr>\n",
       "      <th>12</th>\n",
       "      <td>DecisionTreeClassifier</td>\n",
       "      <td>0.72</td>\n",
       "      <td>0.28</td>\n",
       "    </tr>\n",
       "    <tr>\n",
       "      <th>13</th>\n",
       "      <td>ExtraTreeClassifier</td>\n",
       "      <td>0.72</td>\n",
       "      <td>0.28</td>\n",
       "    </tr>\n",
       "    <tr>\n",
       "      <th>1</th>\n",
       "      <td>AdaBoostClassifier</td>\n",
       "      <td>0.65</td>\n",
       "      <td>0.35</td>\n",
       "    </tr>\n",
       "    <tr>\n",
       "      <th>8</th>\n",
       "      <td>KNeighborsClassifier</td>\n",
       "      <td>0.36</td>\n",
       "      <td>0.64</td>\n",
       "    </tr>\n",
       "    <tr>\n",
       "      <th>9</th>\n",
       "      <td>SVC</td>\n",
       "      <td>0.36</td>\n",
       "      <td>0.64</td>\n",
       "    </tr>\n",
       "    <tr>\n",
       "      <th>6</th>\n",
       "      <td>LogisticRegressionCV</td>\n",
       "      <td>0.33</td>\n",
       "      <td>0.67</td>\n",
       "    </tr>\n",
       "    <tr>\n",
       "      <th>11</th>\n",
       "      <td>LinearSVC</td>\n",
       "      <td>0.27</td>\n",
       "      <td>0.73</td>\n",
       "    </tr>\n",
       "    <tr>\n",
       "      <th>7</th>\n",
       "      <td>SGDClassifier</td>\n",
       "      <td>0.22</td>\n",
       "      <td>0.78</td>\n",
       "    </tr>\n",
       "    <tr>\n",
       "      <th>10</th>\n",
       "      <td>NuSVC</td>\n",
       "      <td>0.22</td>\n",
       "      <td>0.78</td>\n",
       "    </tr>\n",
       "  </tbody>\n",
       "</table>\n",
       "</div>"
      ],
      "text/plain": [
       "                         MLA Name Exactitud Tasa de mala clasificacion\n",
       "5          RandomForestClassifier       0.8                        0.2\n",
       "3            ExtraTreesClassifier      0.79                       0.21\n",
       "4      GradientBoostingClassifier      0.79                       0.21\n",
       "14     LinearDiscriminantAnalysis      0.79                       0.21\n",
       "16                  XGBClassifier      0.79                       0.21\n",
       "2               BaggingClassifier      0.77                       0.23\n",
       "15  QuadraticDiscriminantAnalysis      0.77                       0.23\n",
       "12         DecisionTreeClassifier      0.72                       0.28\n",
       "13            ExtraTreeClassifier      0.72                       0.28\n",
       "1              AdaBoostClassifier      0.65                       0.35\n",
       "8            KNeighborsClassifier      0.36                       0.64\n",
       "9                             SVC      0.36                       0.64\n",
       "6            LogisticRegressionCV      0.33                       0.67\n",
       "11                      LinearSVC      0.27                       0.73\n",
       "7                   SGDClassifier      0.22                       0.78\n",
       "10                          NuSVC      0.22                       0.78"
      ]
     },
     "execution_count": 76,
     "metadata": {},
     "output_type": "execute_result"
    }
   ],
   "source": [
    "MLA_compare.sort_values(by = ['Exactitud'], ascending = False, inplace = True)\n",
    "MLA_compare"
   ]
  },
  {
   "cell_type": "markdown",
   "metadata": {},
   "source": [
    "## Matriz de confusión"
   ]
  },
  {
   "cell_type": "code",
   "execution_count": 81,
   "metadata": {},
   "outputs": [
    {
     "data": {
      "image/png": "[encoded data removed]",
      "text/plain": [
       "<Figure size 576x396 with 2 Axes>"
      ]
     },
     "metadata": {},
     "output_type": "display_data"
    },
    {
     "data": {
      "text/plain": [
       "<matplotlib.axes._subplots.AxesSubplot at 0x22700be07c8>"
      ]
     },
     "execution_count": 81,
     "metadata": {},
     "output_type": "execute_result"
    }
   ],
   "source": [
    "from yellowbrick.classifier import ClassificationReport\n",
    "\n",
    "#model = LogisticRegression()\n",
    "\n",
    "\n",
    "visualizer = ClassificationReport(ensemble.GradientBoostingClassifier())\n",
    "\n",
    "visualizer.fit(x_train, y_train)\n",
    "visualizer.score(x_test, y_test)\n",
    "visualizer.show()\n"
   ]
  },
  {
   "cell_type": "code",
   "execution_count": 95,
   "metadata": {},
   "outputs": [
    {
     "data": {
      "image/png": "[encoded data removed]",
      "text/plain": [
       "<Figure size 576x396 with 1 Axes>"
      ]
     },
     "metadata": {},
     "output_type": "display_data"
    }
   ],
   "source": [
    "from yellowbrick.classifier import ROCAUC\n",
    "\n",
    "classes=[0., 1., 2., 3.]\n",
    "\n",
    "\n",
    "\n",
    "# Instantiate the visualizer with the classification model\n",
    "\n",
    "#for lost in loss:\n",
    "visualizer = ROCAUC(ensemble.GradientBoostingClassifier(), classes=classes)\n",
    "\n",
    "visualizer.fit(x_train, y_train)  # Fit the training data to the visualizer\n",
    "visualizer.score(x_test, y_test)  # Evaluate the model on the test data\n",
    "g = visualizer.poof()             # Draw/show/poof the data\n",
    "    "
   ]
  },
  {
   "cell_type": "markdown",
   "metadata": {},
   "source": [
    "## <ins>GradientBoostinClassifier<ins>"
   ]
  },
  {
   "cell_type": "code",
   "execution_count": null,
   "metadata": {},
   "outputs": [],
   "source": []
  },
  {
   "cell_type": "code",
   "execution_count": 47,
   "metadata": {},
   "outputs": [],
   "source": [
    "cv_split = model_selection.ShuffleSplit(n_splits = 10, test_size = .3, train_size = .6, random_state = 0 )\n",
    "\n",
    "cv_results = model_selection.cross_validate(ensemble.GradientBoostingClassifier() , x_train[x],  y_train[y], return_train_score=True, cv  = cv_split)\n",
    "\n",
    "GBC_columns = ['MLA Name', 'Exactitud', 'Tasa de mala clasificacion' , 'Tiempo']\n",
    "GBC_compare = pd.DataFrame(columns = GBC_columns)\n",
    "\n",
    "GBC_name = ensemble.GradientBoostingClassifier().__class__.__name__\n",
    "GBC_compare.loc[0,'MLA Name'] = GBC_name\n",
    "GBC_compare.loc[0,'Tiempo'] = cv_results['fit_time'].mean()\n",
    "GBC_compare.loc[0,'Exactitud'] = round(cv_results['test_score'].mean(),2)   \n",
    "GBC_compare.loc[0,'Tasa de mala clasificacion'] =round(1- cv_results['test_score'].mean(),2)"
   ]
  },
  {
   "cell_type": "code",
   "execution_count": null,
   "metadata": {},
   "outputs": [],
   "source": []
  },
  {
   "cell_type": "code",
   "execution_count": 48,
   "metadata": {},
   "outputs": [
    {
     "data": {
      "text/html": [
       "<div>\n",
       "<style scoped>\n",
       "    .dataframe tbody tr th:only-of-type {\n",
       "        vertical-align: middle;\n",
       "    }\n",
       "\n",
       "    .dataframe tbody tr th {\n",
       "        vertical-align: top;\n",
       "    }\n",
       "\n",
       "    .dataframe thead th {\n",
       "        text-align: right;\n",
       "    }\n",
       "</style>\n",
       "<table border=\"1\" class=\"dataframe\">\n",
       "  <thead>\n",
       "    <tr style=\"text-align: right;\">\n",
       "      <th></th>\n",
       "      <th>MLA Name</th>\n",
       "      <th>Exactitud</th>\n",
       "      <th>Tasa de mala clasificacion</th>\n",
       "      <th>Tiempo</th>\n",
       "    </tr>\n",
       "  </thead>\n",
       "  <tbody>\n",
       "    <tr>\n",
       "      <th>0</th>\n",
       "      <td>GradientBoostingClassifier</td>\n",
       "      <td>0.8</td>\n",
       "      <td>0.2</td>\n",
       "      <td>4.73335</td>\n",
       "    </tr>\n",
       "  </tbody>\n",
       "</table>\n",
       "</div>"
      ],
      "text/plain": [
       "                     MLA Name Exactitud Tasa de mala clasificacion   Tiempo\n",
       "0  GradientBoostingClassifier       0.8                        0.2  4.73335"
      ]
     },
     "execution_count": 48,
     "metadata": {},
     "output_type": "execute_result"
    }
   ],
   "source": [
    "GBC_compare"
   ]
  },
  {
   "cell_type": "markdown",
   "metadata": {},
   "source": [
    "### Hiperparametrización\n",
    "\n",
    "\n",
    "\n",
    "Uso: <span style=\"color:blue\">StratifiedKFold</span> y <span style=\"color:blue\">RandomizedSearchCV</span>\n",
    "\n",
    "* <span style=\"color:blue\">RandomizedSearchCV</span>: The parameters of the estimator used to apply these methods are optimized by cross-validated search over parameter settings. In contrast to GridSearchCV, not all parameter values are tried out, but rather a fixed number of parameter settings is sampled from the specified distributions. The number of parameter settings that are tried is given by n_iter.\n",
    "\n",
    "* <span style=\"color:blue\">StratifiedKFold</span>: This cross-validation object is a variation of KFold that returns stratified folds. The folds are made by preserving the percentage of samples for each class.Therefore, in classifications tasks with imbalanced class distributions, we should prefer StratifiedKFold over KFold. Es decir, si quiero aplicar shuffle tengo que usar SKF.\n",
    "\n",
    "\n",
    "    * Generate test sets such that all contain the same distribution of classes, or as close as possible.\n",
    "\n",
    "    * Be invariant to class label: relabelling y = [\"Happy\", \"Sad\"] to y = [1, 0] should not change the indices generated.\n",
    "\n",
    "    * Preserve order dependencies in the dataset ordering, when shuffle=False: all samples from class k in some test set were contiguous in y, or separated in y by samples from classes other than k."
   ]
  },
  {
   "cell_type": "code",
   "execution_count": 18,
   "metadata": {},
   "outputs": [
    {
     "name": "stdout",
     "output_type": "stream",
     "text": [
      "Exactitud del clasificador Gradient Boost Classifier en la base de prueba: 0.81\n"
     ]
    }
   ],
   "source": [
    "#cv_split = model_selection.ShuffleSplit(n_splits = 10, test_size = .3, train_size = .6, random_state = 0 )\n",
    "\n",
    "#cv_results = model_selection.cross_validate(ensemble.GradientBoostingClassifier() , x_train[x],  y_train[y], return_train_score=True, cv  = cv_split)\n"
   ]
  },
  {
   "cell_type": "code",
   "execution_count": 19,
   "metadata": {},
   "outputs": [],
   "source": [
    "from sklearn.model_selection import RandomizedSearchCV, GridSearchCV\n",
    "from sklearn.model_selection import StratifiedKFold\n",
    "from datetime import datetime"
   ]
  },
  {
   "cell_type": "code",
   "execution_count": 30,
   "metadata": {},
   "outputs": [],
   "source": [
    "params = {\n",
    "        'min_samples_split':[180, 370],\n",
    "        'subsample': [0.6, 0.8, 1.0],\n",
    "        'max_depth': [5,8]\n",
    "        }"
   ]
  },
  {
   "cell_type": "code",
   "execution_count": 21,
   "metadata": {},
   "outputs": [],
   "source": [
    "GBC =  ensemble.GradientBoostingClassifier(learning_rate=0.02, n_estimators=600,min_samples_leaf = 50, warm_start=True)"
   ]
  },
  {
   "cell_type": "code",
   "execution_count": 22,
   "metadata": {},
   "outputs": [
    {
     "name": "stdout",
     "output_type": "stream",
     "text": [
      "Fitting 3 folds for each of 3 candidates, totalling 9 fits\n"
     ]
    },
    {
     "name": "stderr",
     "output_type": "stream",
     "text": [
      "[Parallel(n_jobs=4)]: Using backend LokyBackend with 4 concurrent workers.\n",
      "[Parallel(n_jobs=4)]: Done   6 out of   9 | elapsed:  2.2min remaining:  1.1min\n",
      "[Parallel(n_jobs=4)]: Done   9 out of   9 | elapsed:  2.5min finished\n"
     ]
    },
    {
     "data": {
      "text/plain": [
       "RandomizedSearchCV(cv=<generator object _BaseKFold.split at 0x000001BCCDCA47C8>,\n",
       "                   error_score=nan,\n",
       "                   estimator=GradientBoostingClassifier(ccp_alpha=0.0,\n",
       "                                                        criterion='friedman_mse',\n",
       "                                                        init=None,\n",
       "                                                        learning_rate=0.02,\n",
       "                                                        loss='deviance',\n",
       "                                                        max_depth=3,\n",
       "                                                        max_features=None,\n",
       "                                                        max_leaf_nodes=None,\n",
       "                                                        min_impurity_decrease=0.0,\n",
       "                                                        min_impurity_split=None,\n",
       "                                                        min_samples_leaf=50,\n",
       "                                                        min_samples_split...\n",
       "                                                        n_iter_no_change=None,\n",
       "                                                        presort='deprecated',\n",
       "                                                        random_state=None,\n",
       "                                                        subsample=1.0,\n",
       "                                                        tol=0.0001,\n",
       "                                                        validation_fraction=0.1,\n",
       "                                                        verbose=0,\n",
       "                                                        warm_start=True),\n",
       "                   iid='deprecated', n_iter=3, n_jobs=4,\n",
       "                   param_distributions={'max_depth': [5, 8],\n",
       "                                        'min_samples_split': [180, 370],\n",
       "                                        'subsample': [0.6, 0.8, 1.0]},\n",
       "                   pre_dispatch='2*n_jobs', random_state=1001, refit=True,\n",
       "                   return_train_score=False, scoring=None, verbose=3)"
      ]
     },
     "execution_count": 22,
     "metadata": {},
     "output_type": "execute_result"
    }
   ],
   "source": [
    "folds = 3\n",
    "param_comb = 3\n",
    "\n",
    "skf = StratifiedKFold(n_splits=folds, shuffle = True, random_state = 1001)\n",
    "\n",
    "random_search = RandomizedSearchCV(GBC, param_distributions=params, n_iter=param_comb, n_jobs=4, cv=skf.split(x_train,y_train), verbose=3, random_state=1001 )\n",
    "random_search.fit(x_train,y_train)\n",
    "random_search.best_params_"
   ]
  },
  {
   "cell_type": "code",
   "execution_count": 23,
   "metadata": {},
   "outputs": [
    {
     "name": "stdout",
     "output_type": "stream",
     "text": [
      "\n",
      " Todos los resultados:\n",
      "{'mean_fit_time': array([57.84931636, 77.8318189 , 46.56233891]), 'std_fit_time': array([0.03122852, 3.22559681, 3.52827252]), 'mean_score_time': array([0.10934925, 0.11590274, 0.11455592]), 'std_score_time': array([0.01275474, 0.00879039, 0.00736418]), 'param_subsample': masked_array(data=[0.8, 1.0, 0.6],\n",
      "             mask=[False, False, False],\n",
      "       fill_value='?',\n",
      "            dtype=object), 'param_min_samples_split': masked_array(data=[180, 370, 180],\n",
      "             mask=[False, False, False],\n",
      "       fill_value='?',\n",
      "            dtype=object), 'param_max_depth': masked_array(data=[5, 8, 8],\n",
      "             mask=[False, False, False],\n",
      "       fill_value='?',\n",
      "            dtype=object), 'params': [{'subsample': 0.8, 'min_samples_split': 180, 'max_depth': 5}, {'subsample': 1.0, 'min_samples_split': 370, 'max_depth': 8}, {'subsample': 0.6, 'min_samples_split': 180, 'max_depth': 8}], 'split0_test_score': array([0.81882353, 0.81647059, 0.81960784]), 'split1_test_score': array([0.80156863, 0.80392157, 0.80078431]), 'split2_test_score': array([0.79764706, 0.79764706, 0.80078431]), 'mean_test_score': array([0.80601307, 0.80601307, 0.80705882]), 'std_test_score': array([0.00919875, 0.00782569, 0.0088735 ]), 'rank_test_score': array([2, 2, 1])}\n",
      "\n",
      " Mejor estimador:\n",
      "GradientBoostingClassifier(ccp_alpha=0.0, criterion='friedman_mse', init=None,\n",
      "                           learning_rate=0.02, loss='deviance', max_depth=8,\n",
      "                           max_features=None, max_leaf_nodes=None,\n",
      "                           min_impurity_decrease=0.0, min_impurity_split=None,\n",
      "                           min_samples_leaf=50, min_samples_split=180,\n",
      "                           min_weight_fraction_leaf=0.0, n_estimators=600,\n",
      "                           n_iter_no_change=None, presort='deprecated',\n",
      "                           random_state=None, subsample=0.6, tol=0.0001,\n",
      "                           validation_fraction=0.1, verbose=0, warm_start=True)\n",
      "\n",
      " Mejor puntaje de gini normalizado para  3-fold busqueda con 3 combinaciones de los parametros:\n",
      "0.6141176470588234\n",
      "\n",
      " Mejores hypermarametros:\n",
      "{'subsample': 0.6, 'min_samples_split': 180, 'max_depth': 8}\n"
     ]
    }
   ],
   "source": [
    "print('\\n Todos los resultados:')\n",
    "print(random_search.cv_results_)\n",
    "print('\\n Mejor estimador:')\n",
    "print(random_search.best_estimator_)\n",
    "print('\\n Mejor puntaje de gini normalizado para  %d-fold busqueda con %d combinaciones de los parametros:' % (folds, param_comb))\n",
    "print(random_search.best_score_ * 2 - 1)\n",
    "print('\\n Mejores hypermarametros:')\n",
    "print(random_search.best_params_)\n",
    "results = pd.DataFrame(random_search.cv_results_)"
   ]
  },
  {
   "cell_type": "code",
   "execution_count": 25,
   "metadata": {},
   "outputs": [
    {
     "name": "stdout",
     "output_type": "stream",
     "text": [
      "Exactitud del clasificador Gradient Boost Classifier en la base de prueba: 0.81\n"
     ]
    }
   ],
   "source": [
    "GBC3=ensemble.GradientBoostingClassifier(ccp_alpha=0.0, criterion='friedman_mse', init=None,\n",
    "                           learning_rate=0.02, loss='deviance', max_depth=8,\n",
    "                           max_features=None, max_leaf_nodes=None,\n",
    "                           min_impurity_decrease=0.0, min_impurity_split=None,\n",
    "                           min_samples_leaf=50, min_samples_split=180,\n",
    "                           min_weight_fraction_leaf=0.0, n_estimators=600,\n",
    "                           n_iter_no_change=None, presort='deprecated',\n",
    "                           random_state=None, subsample=0.6, tol=0.0001,\n",
    "                           validation_fraction=0.1, verbose=0, warm_start=True)\n",
    "GBC3.fit(x_train[x],  y_train[y])\n",
    "\n",
    "y_pred = GBC3.predict(x_test)\n",
    "\n",
    "print('Exactitud del clasificador Gradient Boost Classifier en la base de prueba: {:.2f}'.format(GBC3.score(x_test[x], y_test[y])))"
   ]
  },
  {
   "cell_type": "code",
   "execution_count": 31,
   "metadata": {},
   "outputs": [],
   "source": [
    "params4 = {\n",
    "        'min_samples_split':[180, 90, 30],\n",
    "        'subsample': [0.6, 0.4, 0.2],\n",
    "        'max_depth': [8, 10],\n",
    "        'learning_rate': [0.01, 0.02, 0.015, 3],\n",
    "        'n_estimators' : [600, 3000],\n",
    "        'max_leaf_nodes' : [2, 5, 10, None],\n",
    "        'warm_start' : [True, False],\n",
    "        'min_samples_leaf' : [20, 50, 100]\n",
    "        }"
   ]
  },
  {
   "cell_type": "code",
   "execution_count": 32,
   "metadata": {},
   "outputs": [],
   "source": [
    "GBC4 =  ensemble.GradientBoostingClassifier()"
   ]
  },
  {
   "cell_type": "code",
   "execution_count": 33,
   "metadata": {
    "collapsed": true,
    "jupyter": {
     "outputs_hidden": true
    }
   },
   "outputs": [
    {
     "name": "stdout",
     "output_type": "stream",
     "text": [
      "Fitting 3 folds for each of 3 candidates, totalling 9 fits\n"
     ]
    },
    {
     "name": "stderr",
     "output_type": "stream",
     "text": [
      "[Parallel(n_jobs=4)]: Using backend LokyBackend with 4 concurrent workers.\n",
      "[Parallel(n_jobs=4)]: Done   6 out of   9 | elapsed:  3.0min remaining:  1.5min\n",
      "[Parallel(n_jobs=4)]: Done   9 out of   9 | elapsed:  3.8min finished\n"
     ]
    },
    {
     "data": {
      "text/plain": [
       "RandomizedSearchCV(cv=<generator object _BaseKFold.split at 0x000001BCCDCF13C8>,\n",
       "                   error_score=nan,\n",
       "                   estimator=GradientBoostingClassifier(ccp_alpha=0.0,\n",
       "                                                        criterion='friedman_mse',\n",
       "                                                        init=None,\n",
       "                                                        learning_rate=0.1,\n",
       "                                                        loss='deviance',\n",
       "                                                        max_depth=3,\n",
       "                                                        max_features=None,\n",
       "                                                        max_leaf_nodes=None,\n",
       "                                                        min_impurity_decrease=0.0,\n",
       "                                                        min_impurity_split=None,\n",
       "                                                        min_samples_leaf=1,\n",
       "                                                        min_samples_split=2...\n",
       "                   param_distributions={'learning_rate': [0.01, 0.02, 0.015, 3],\n",
       "                                        'max_depth': [8, 10],\n",
       "                                        'max_leaf_nodes': [2, 5, 10, None],\n",
       "                                        'min_samples_leaf': [20, 50, 100],\n",
       "                                        'min_samples_split': [180, 90, 30],\n",
       "                                        'n_estimators': [600, 3000],\n",
       "                                        'subsample': [0.6, 0.4, 0.2],\n",
       "                                        'warm_start': [True, False]},\n",
       "                   pre_dispatch='2*n_jobs', random_state=1001, refit=True,\n",
       "                   return_train_score=False, scoring=None, verbose=3)"
      ]
     },
     "execution_count": 33,
     "metadata": {},
     "output_type": "execute_result"
    }
   ],
   "source": [
    "folds = 3\n",
    "param_comb = 3\n",
    "\n",
    "skf = StratifiedKFold(n_splits=folds, shuffle = True, random_state = 1001)\n",
    "\n",
    "random_search = RandomizedSearchCV(GBC4, param_distributions=params4, n_iter=param_comb, n_jobs=4, cv=skf.split(x_train,y_train), verbose=3, random_state=1001 )\n",
    "random_search.fit(x_train,y_train)"
   ]
  },
  {
   "cell_type": "code",
   "execution_count": 34,
   "metadata": {
    "collapsed": true,
    "jupyter": {
     "outputs_hidden": true,
     "source_hidden": true
    }
   },
   "outputs": [
    {
     "name": "stdout",
     "output_type": "stream",
     "text": [
      "\n",
      " Mejor estimador:\n",
      "GradientBoostingClassifier(ccp_alpha=0.0, criterion='friedman_mse', init=None,\n",
      "                           learning_rate=0.02, loss='deviance', max_depth=8,\n",
      "                           max_features=None, max_leaf_nodes=None,\n",
      "                           min_impurity_decrease=0.0, min_impurity_split=None,\n",
      "                           min_samples_leaf=20, min_samples_split=30,\n",
      "                           min_weight_fraction_leaf=0.0, n_estimators=600,\n",
      "                           n_iter_no_change=None, presort='deprecated',\n",
      "                           random_state=None, subsample=0.6, tol=0.0001,\n",
      "                           validation_fraction=0.1, verbose=0,\n",
      "                           warm_start=False)\n",
      "\n",
      " Mejor puntaje de gini normalizado para  3-fold busqueda con 3 combinaciones de los parametros:\n",
      "0.6115032679738561\n",
      "\n",
      " Mejores hypermarametros:\n",
      "{'warm_start': False, 'subsample': 0.6, 'n_estimators': 600, 'min_samples_split': 30, 'min_samples_leaf': 20, 'max_leaf_nodes': None, 'max_depth': 8, 'learning_rate': 0.02}\n"
     ]
    }
   ],
   "source": [
    "print('\\n Mejor estimador:')\n",
    "print(random_search.best_estimator_)\n",
    "print('\\n Mejor puntaje de gini normalizado para  %d-fold busqueda con %d combinaciones de los parametros:' % (folds, param_comb))\n",
    "print(random_search.best_score_ * 2 - 1)\n",
    "print('\\n Mejores hypermarametros:')\n",
    "print(random_search.best_params_)\n",
    "results = pd.DataFrame(random_search.cv_results_)"
   ]
  },
  {
   "cell_type": "code",
   "execution_count": 49,
   "metadata": {
    "jupyter": {
     "source_hidden": true
    }
   },
   "outputs": [
    {
     "name": "stdout",
     "output_type": "stream",
     "text": [
      "Exactitud del clasificador Gradient Boost Classifier en la base de prueba: 0.81\n"
     ]
    }
   ],
   "source": [
    "GBC5 = ensemble.GradientBoostingClassifier(ccp_alpha=0.0, criterion='friedman_mse', init=None,\n",
    "                           learning_rate=0.02, loss='deviance', max_depth=8,\n",
    "                           max_features=None, max_leaf_nodes=None,\n",
    "                           min_impurity_decrease=0.0, min_impurity_split=None,\n",
    "                           min_samples_leaf=20, min_samples_split=30,\n",
    "                           min_weight_fraction_leaf=0.0, n_estimators=600,\n",
    "                           n_iter_no_change=None, presort='deprecated',\n",
    "                           random_state=None, subsample=0.6, tol=0.0001,\n",
    "                           validation_fraction=0.1, verbose=0,\n",
    "                           warm_start=False)\n",
    "\n",
    "\n",
    "GBC5.fit(x_train[x],  y_train[y])\n",
    "\n",
    "\n",
    "print('Exactitud del clasificador Gradient Boost Classifier en la base de prueba: {:.2f}'.format(GBC5.score(x_test[x], y_test[y])))"
   ]
  },
  {
   "cell_type": "code",
   "execution_count": null,
   "metadata": {
    "jupyter": {
     "source_hidden": true
    }
   },
   "outputs": [],
   "source": [
    "cv_split = model_selection.ShuffleSplit(n_splits = 10, test_size = .3, train_size = .6, random_state = 0 ) # run model 10x with 60/30 split intentionally leaving out 10%\n",
    "\n",
    "MLA_columns = ['MLA Name', 'Exactitud', 'Tasa de mala clasificacion' , 'Tiempo']\n",
    "MLA_compare = pd.DataFrame(columns = MLA_columns)"
   ]
  },
  {
   "cell_type": "code",
   "execution_count": 78,
   "metadata": {},
   "outputs": [],
   "source": [
    "cv_split = model_selection.ShuffleSplit(n_splits = 10, test_size = .3, train_size = .6, random_state = 0 )\n",
    "\n",
    "cv_results = model_selection.cross_validate(ensemble.GradientBoostingClassifier(ccp_alpha=0.0, criterion='friedman_mse', init=None,\n",
    "                           learning_rate=0.02, loss='deviance', max_depth=8,\n",
    "                           max_features=None, max_leaf_nodes=None,\n",
    "                           min_impurity_decrease=0.0, min_impurity_split=None,\n",
    "                           min_samples_leaf=50, min_samples_split=180,\n",
    "                           min_weight_fraction_leaf=0.0, n_estimators=600,\n",
    "                           n_iter_no_change=None, presort='deprecated',\n",
    "                           random_state=None, subsample=0.6, tol=0.0001,\n",
    "                           validation_fraction=0.1, verbose=0, warm_start=True) , x_train[x],  y_train[y], return_train_score=True, cv  = cv_split)\n",
    "\n",
    "GBC_columns = ['MLA Name', 'Exactitud', 'Tasa de mala clasificacion' , 'Tiempo']\n",
    "GBC_compare = pd.DataFrame(columns = GBC_columns)\n",
    "\n",
    "GBC_name = ensemble.GradientBoostingClassifier().__class__.__name__\n",
    "GBC_compare.loc[0,'MLA Name'] = GBC_name\n",
    "GBC_compare.loc[0,'Tiempo'] = cv_results['fit_time'].mean()\n",
    "GBC_compare.loc[0,'Exactitud'] = round(cv_results['test_score'].mean(),2)   \n",
    "GBC_compare.loc[0,'Tasa de mala clasificacion'] =round(1- cv_results['test_score'].mean(),2)"
   ]
  },
  {
   "cell_type": "code",
   "execution_count": 79,
   "metadata": {},
   "outputs": [
    {
     "data": {
      "text/html": [
       "<div>\n",
       "<style scoped>\n",
       "    .dataframe tbody tr th:only-of-type {\n",
       "        vertical-align: middle;\n",
       "    }\n",
       "\n",
       "    .dataframe tbody tr th {\n",
       "        vertical-align: top;\n",
       "    }\n",
       "\n",
       "    .dataframe thead th {\n",
       "        text-align: right;\n",
       "    }\n",
       "</style>\n",
       "<table border=\"1\" class=\"dataframe\">\n",
       "  <thead>\n",
       "    <tr style=\"text-align: right;\">\n",
       "      <th></th>\n",
       "      <th>MLA Name</th>\n",
       "      <th>Exactitud</th>\n",
       "      <th>Tasa de mala clasificacion</th>\n",
       "      <th>Tiempo</th>\n",
       "    </tr>\n",
       "  </thead>\n",
       "  <tbody>\n",
       "    <tr>\n",
       "      <th>0</th>\n",
       "      <td>GradientBoostingClassifier</td>\n",
       "      <td>0.81</td>\n",
       "      <td>0.19</td>\n",
       "      <td>31.3824</td>\n",
       "    </tr>\n",
       "  </tbody>\n",
       "</table>\n",
       "</div>"
      ],
      "text/plain": [
       "                     MLA Name Exactitud Tasa de mala clasificacion   Tiempo\n",
       "0  GradientBoostingClassifier      0.81                       0.19  31.3824"
      ]
     },
     "execution_count": 79,
     "metadata": {},
     "output_type": "execute_result"
    }
   ],
   "source": [
    "GBC_compare"
   ]
  },
  {
   "cell_type": "code",
   "execution_count": 80,
   "metadata": {},
   "outputs": [
    {
     "data": {
      "text/plain": [
       "0.8"
      ]
     },
     "execution_count": 80,
     "metadata": {},
     "output_type": "execute_result"
    }
   ],
   "source": [
    "alg = ensemble.GradientBoostingClassifier(ccp_alpha=0.0, criterion='friedman_mse', init=None,\n",
    "                           learning_rate=0.02, loss='deviance', max_depth=8,\n",
    "                           max_features=None, max_leaf_nodes=None,\n",
    "                           min_impurity_decrease=0.0, min_impurity_split=None,\n",
    "                           min_samples_leaf=50, min_samples_split=180,\n",
    "                           min_weight_fraction_leaf=0.0, n_estimators=600,\n",
    "                           n_iter_no_change=None, presort='deprecated',\n",
    "                           random_state=None, subsample=0.6, tol=0.0001,\n",
    "                           validation_fraction=0.1, verbose=0, warm_start=True)\n",
    "\n",
    "alg.fit(x_train[x],  y_train[y])\n",
    "cv_results = alg.score(x_test[x], y_test[y])\n",
    "\n",
    "cv_results"
   ]
  },
  {
   "cell_type": "code",
   "execution_count": 84,
   "metadata": {},
   "outputs": [
    {
     "name": "stdout",
     "output_type": "stream",
     "text": [
      "Best parameters: GradientBoostingClassifier(ccp_alpha=0.0, criterion='friedman_mse', init=None,\n",
      "                           learning_rate=0.1, loss='deviance', max_depth=8,\n",
      "                           max_features=None, max_leaf_nodes=None,\n",
      "                           min_impurity_decrease=0.0, min_impurity_split=None,\n",
      "                           min_samples_leaf=1, min_samples_split=370,\n",
      "                           min_weight_fraction_leaf=0.0, n_estimators=100,\n",
      "                           n_iter_no_change=None, presort='deprecated',\n",
      "                           random_state=None, subsample=0.8, tol=0.0001,\n",
      "                           validation_fraction=0.1, verbose=0,\n",
      "                           warm_start=False)\n",
      "ABCMeta   | accuracy: 80.99% |  standard deviation: 1.71, Time 378.97469065189364\n"
     ]
    }
   ],
   "source": [
    "gridcvs = {}\n",
    "\n",
    "inner_cv = StratifiedKFold(n_splits=3, shuffle=True, random_state=1)\n",
    "\n",
    "params = {\n",
    "        'min_samples_split':[180, 370],\n",
    "        'subsample': [0.6, 0.8, 1.0],\n",
    "        'max_depth': [5,8]\n",
    "        }\n",
    "\n",
    "name = ensemble.GradientBoostingClassifier.__class__.__name__\n",
    "\n",
    "gcv = GridSearchCV(estimator=ensemble.GradientBoostingClassifier(),\n",
    "                        param_grid=params,\n",
    "                       scoring='accuracy',\n",
    "                       n_jobs=-1,\n",
    "                       cv=inner_cv,\n",
    "                       verbose=0,\n",
    "                       refit=True)\n",
    "gridcvs[name]=gcv  \n",
    "        \n",
    "outer_cv = StratifiedKFold(n_splits=10, shuffle=True, random_state=1)\n",
    "\n",
    "nested_score = cross_validate(gcv, \n",
    "                               X=x_train[x], \n",
    "                               y=y_train[y], \n",
    "                               cv=outer_cv,\n",
    "                               return_estimator=True,\n",
    "                               n_jobs=-1)\n",
    "    \n",
    "best= nested_score['estimator'][0].best_estimator_\n",
    "print('Best parameters:' , best)\n",
    "print('%s   | accuracy: %.2f%% |  standard deviation: %.2f, Time' % \n",
    "              (name, nested_score['test_score'].mean() * 100, nested_score['test_score'].std() * 100),nested_score['fit_time'].mean())"
   ]
  },
  {
   "cell_type": "code",
   "execution_count": null,
   "metadata": {},
   "outputs": [],
   "source": []
  }
 ],
 "metadata": {
  "kernelspec": {
   "display_name": "Python 3",
   "language": "python",
   "name": "python3"
  },
  "language_info": {
   "codemirror_mode": {
    "name": "ipython",
    "version": 3
   },
   "file_extension": ".py",
   "mimetype": "text/x-python",
   "name": "python",
   "nbconvert_exporter": "python",
   "pygments_lexer": "ipython3",
   "version": "3.7.6"
  }
 },
 "nbformat": 4,
 "nbformat_minor": 4
}
